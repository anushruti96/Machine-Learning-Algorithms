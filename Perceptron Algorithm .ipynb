{
 "cells": [
  {
   "cell_type": "markdown",
   "id": "add854a1",
   "metadata": {},
   "source": [
    "# Perceptron algorithm"
   ]
  },
  {
   "cell_type": "code",
   "execution_count": 18,
   "id": "163b360a",
   "metadata": {},
   "outputs": [
    {
     "name": "stdout",
     "output_type": "stream",
     "text": [
      "The weights are : [ 2.   -3.52 -1.24]\n"
     ]
    }
   ],
   "source": [
    "import numpy as np\n",
    "\n",
    "array_X = np.array([\n",
    "[1, 0.00, 0.63],\n",
    "[1, 0.08, 0.50],\n",
    "[1, 0.25, 0.36],\n",
    "[1, 0.28, 0.12],\n",
    "[1, 0.11, 0.22],\n",
    "[1, -0.08,0.19],\n",
    "[1, 0.23, -0.13],\n",
    "[1, 0.41, -0.13],\n",
    "[1, 0.47, 0.14],\n",
    "[1, 0.51, 0.64],\n",
    "[1, 0.73, 0.72],\n",
    "[1, 0.70, 0.52],\n",
    "[1, 0.55, 0.38],\n",
    "[1, 0.77, 0.26],\n",
    "[1, 0.99, 0.24],\n",
    "[1, 0.72, 0.07],\n",
    "[1, 0.52, 0.91],\n",
    "[1, 0.33, 0.85]])\n",
    "\n",
    "array_Y = np.array([1, 1, 1, 1, 1, 1, 1, 1, 1, -1,  -1,  -1,  -1,  -1,  -1,  -1,  -1,  -1])\n",
    "\n",
    "def perceptronImpl(array_X, array_Y):\n",
    "    weight = np.zeros(len(array_X[0]))\n",
    "    while(True):\n",
    "        for i, x in enumerate(array_X):\n",
    "            if (np.dot(array_X[i], weight)*array_Y[i]) <= 0:\n",
    "                weight = weight + array_X[i]*array_Y[i]\n",
    "        n = 0\n",
    "        for i, x in enumerate(array_X):\n",
    "          if np.sign(np.dot(array_X[i], weight)) == np.sign(array_Y[i]):\n",
    "            n = n + 1\n",
    "        if n == len(array_X):\n",
    "          break\n",
    "    return weight\n",
    "\n",
    "weight = perceptronImpl(array_X,array_Y)\n",
    "print(\"The weights are :\",weight)\n",
    "\n",
    "\n",
    "       "
   ]
  },
  {
   "cell_type": "code",
   "execution_count": null,
   "id": "88cf22e8",
   "metadata": {},
   "outputs": [],
   "source": []
  }
 ],
 "metadata": {
  "kernelspec": {
   "display_name": "Python 3 (ipykernel)",
   "language": "python",
   "name": "python3"
  },
  "language_info": {
   "codemirror_mode": {
    "name": "ipython",
    "version": 3
   },
   "file_extension": ".py",
   "mimetype": "text/x-python",
   "name": "python",
   "nbconvert_exporter": "python",
   "pygments_lexer": "ipython3",
   "version": "3.9.12"
  }
 },
 "nbformat": 4,
 "nbformat_minor": 5
}
