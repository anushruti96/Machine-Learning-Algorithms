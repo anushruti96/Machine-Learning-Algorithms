{
 "cells": [
  {
   "cell_type": "markdown",
   "id": "e5dc2681",
   "metadata": {},
   "source": [
    "# SVM FOR DATASET 1"
   ]
  },
  {
   "cell_type": "code",
   "execution_count": 5,
   "id": "0694c8f2",
   "metadata": {},
   "outputs": [],
   "source": [
    "import pandas as pd \n",
    "import numpy as np\n",
    "\n",
    "# Scikit-learn library: For SVM\n",
    "from sklearn import preprocessing\n",
    "from sklearn.metrics import confusion_matrix, accuracy_score,classification_report\n",
    "from sklearn import svm\n",
    "from sklearn.model_selection import train_test_split\n",
    "from sklearn.preprocessing import MinMaxScaler\n",
    "import itertools\n",
    "\n",
    "# Matplotlib library to plot the charts\n",
    "import matplotlib.pyplot as plt\n",
    "import matplotlib.mlab as mlab\n",
    "from sklearn.metrics import roc_auc_score,make_scorer"
   ]
  },
  {
   "cell_type": "code",
   "execution_count": 6,
   "id": "8a7212c6",
   "metadata": {},
   "outputs": [],
   "source": [
    "df = pd.read_csv(\"project3_dataset1.txt\",sep='\\t',header=None)"
   ]
  },
  {
   "cell_type": "code",
   "execution_count": 7,
   "id": "cff08710",
   "metadata": {},
   "outputs": [],
   "source": [
    "X = df.select_dtypes(include=['float64'])\n",
    "y = df.iloc[: , -1]\n",
    "\n",
    "mms = MinMaxScaler()\n",
    "X = mms.fit_transform(X)"
   ]
  },
  {
   "cell_type": "code",
   "execution_count": 8,
   "id": "7ddc3901",
   "metadata": {},
   "outputs": [],
   "source": [
    "X_train, X_test, y_train, y_test = train_test_split(X, y, test_size=0.2, random_state=0)\n",
    "svm1 = svm.SVC(kernel='linear')\n",
    "svm1.fit(X_test,y_test)\n",
    "y_train_pred = svm1.predict(X_train)\n",
    "y_test_pred = svm1.predict(X_test)"
   ]
  },
  {
   "cell_type": "markdown",
   "id": "67ed566d",
   "metadata": {},
   "source": [
    "### Results"
   ]
  },
  {
   "cell_type": "code",
   "execution_count": 9,
   "id": "dba3e0f6",
   "metadata": {},
   "outputs": [
    {
     "name": "stdout",
     "output_type": "stream",
     "text": [
      "The metrics for dataset 1 are : \n",
      "               precision    recall  f1-score   support\n",
      "\n",
      "           0       0.95      0.99      0.97        74\n",
      "           1       0.97      0.90      0.94        40\n",
      "\n",
      "    accuracy                           0.96       114\n",
      "   macro avg       0.96      0.94      0.95       114\n",
      "weighted avg       0.96      0.96      0.96       114\n",
      "\n",
      "\n",
      " The accuracy for dataset 1 is :  0.956140350877193\n"
     ]
    }
   ],
   "source": [
    "print(\"The metrics for dataset 1 are : \\n\",classification_report(y_test,y_test_pred))\n",
    "print(\"\\n The accuracy for dataset 1 is : \",accuracy_score(y_test,y_test_pred))"
   ]
  },
  {
   "cell_type": "markdown",
   "id": "5c0929e1",
   "metadata": {},
   "source": [
    "# HYPER PARAMETER TUNING FOR SVM"
   ]
  },
  {
   "cell_type": "code",
   "execution_count": 13,
   "id": "98b2976d",
   "metadata": {},
   "outputs": [
    {
     "name": "stdout",
     "output_type": "stream",
     "text": [
      "Fitting 10 folds for each of 12 candidates, totalling 120 fits\n",
      "[CV 1/10] END C=0.1, gamma=1; AUC: (train=0.991, test=1.000) Accuracy: (train=0.961, test=0.978) F1: (train=0.945, test=0.971) Precision: (train=1.000, test=1.000) Recall: (train=0.896, test=0.944) total time=   0.0s\n",
      "[CV 2/10] END C=0.1, gamma=1; AUC: (train=0.992, test=0.986) Accuracy: (train=0.961, test=0.935) F1: (train=0.945, test=0.914) Precision: (train=1.000, test=0.941) Recall: (train=0.896, test=0.889) total time=   0.0s\n",
      "[CV 3/10] END C=0.1, gamma=1; AUC: (train=0.991, test=0.994) Accuracy: (train=0.956, test=0.978) F1: (train=0.939, test=0.970) Precision: (train=0.986, test=1.000) Recall: (train=0.897, test=0.941) total time=   0.0s\n",
      "[CV 4/10] END C=0.1, gamma=1; AUC: (train=0.993, test=0.984) Accuracy: (train=0.963, test=0.891) F1: (train=0.949, test=0.828) Precision: (train=1.000, test=1.000) Recall: (train=0.903, test=0.706) total time=   0.0s\n",
      "[CV 5/10] END C=0.1, gamma=1; AUC: (train=0.991, test=0.996) Accuracy: (train=0.956, test=0.978) F1: (train=0.939, test=0.970) Precision: (train=0.993, test=1.000) Recall: (train=0.890, test=0.941) total time=   0.0s\n",
      "[CV 6/10] END C=0.1, gamma=1; AUC: (train=0.990, test=1.000) Accuracy: (train=0.956, test=0.978) F1: (train=0.938, test=0.970) Precision: (train=1.000, test=1.000) Recall: (train=0.884, test=0.941) total time=   0.0s\n",
      "[CV 7/10] END C=0.1, gamma=1; AUC: (train=0.994, test=0.975) Accuracy: (train=0.961, test=0.933) F1: (train=0.946, test=0.903) Precision: (train=1.000, test=1.000) Recall: (train=0.897, test=0.824) total time=   0.0s\n",
      "[CV 8/10] END C=0.1, gamma=1; AUC: (train=0.991, test=0.998) Accuracy: (train=0.956, test=0.978) F1: (train=0.938, test=0.970) Precision: (train=1.000, test=1.000) Recall: (train=0.884, test=0.941) total time=   0.0s\n",
      "[CV 9/10] END C=0.1, gamma=1; AUC: (train=0.991, test=1.000) Accuracy: (train=0.959, test=0.956) F1: (train=0.942, test=0.938) Precision: (train=1.000, test=1.000) Recall: (train=0.890, test=0.882) total time=   0.0s\n",
      "[CV 10/10] END C=0.1, gamma=1; AUC: (train=0.991, test=1.000) Accuracy: (train=0.959, test=0.978) F1: (train=0.942, test=0.970) Precision: (train=1.000, test=1.000) Recall: (train=0.890, test=0.941) total time=   0.0s\n",
      "[CV 1/10] END C=0.1, gamma=0.1; AUC: (train=0.991, test=1.000) Accuracy: (train=0.961, test=0.978) F1: (train=0.945, test=0.971) Precision: (train=1.000, test=1.000) Recall: (train=0.896, test=0.944) total time=   0.0s\n",
      "[CV 2/10] END C=0.1, gamma=0.1; AUC: (train=0.992, test=0.986) Accuracy: (train=0.961, test=0.935) F1: (train=0.945, test=0.914) Precision: (train=1.000, test=0.941) Recall: (train=0.896, test=0.889) total time=   0.0s\n",
      "[CV 3/10] END C=0.1, gamma=0.1; AUC: (train=0.991, test=0.994) Accuracy: (train=0.956, test=0.978) F1: (train=0.939, test=0.970) Precision: (train=0.986, test=1.000) Recall: (train=0.897, test=0.941) total time=   0.0s\n",
      "[CV 4/10] END C=0.1, gamma=0.1; AUC: (train=0.993, test=0.984) Accuracy: (train=0.963, test=0.891) F1: (train=0.949, test=0.828) Precision: (train=1.000, test=1.000) Recall: (train=0.903, test=0.706) total time=   0.0s\n",
      "[CV 5/10] END C=0.1, gamma=0.1; AUC: (train=0.991, test=0.996) Accuracy: (train=0.956, test=0.978) F1: (train=0.939, test=0.970) Precision: (train=0.993, test=1.000) Recall: (train=0.890, test=0.941) total time=   0.0s\n",
      "[CV 6/10] END C=0.1, gamma=0.1; AUC: (train=0.990, test=1.000) Accuracy: (train=0.956, test=0.978) F1: (train=0.938, test=0.970) Precision: (train=1.000, test=1.000) Recall: (train=0.884, test=0.941) total time=   0.0s\n",
      "[CV 7/10] END C=0.1, gamma=0.1; AUC: (train=0.994, test=0.975) Accuracy: (train=0.961, test=0.933) F1: (train=0.946, test=0.903) Precision: (train=1.000, test=1.000) Recall: (train=0.897, test=0.824) total time=   0.0s\n",
      "[CV 8/10] END C=0.1, gamma=0.1; AUC: (train=0.991, test=0.998) Accuracy: (train=0.956, test=0.978) F1: (train=0.938, test=0.970) Precision: (train=1.000, test=1.000) Recall: (train=0.884, test=0.941) total time=   0.0s\n",
      "[CV 9/10] END C=0.1, gamma=0.1; AUC: (train=0.991, test=1.000) Accuracy: (train=0.959, test=0.956) F1: (train=0.942, test=0.938) Precision: (train=1.000, test=1.000) Recall: (train=0.890, test=0.882) total time=   0.0s\n",
      "[CV 10/10] END C=0.1, gamma=0.1; AUC: (train=0.991, test=1.000) Accuracy: (train=0.959, test=0.978) F1: (train=0.942, test=0.970) Precision: (train=1.000, test=1.000) Recall: (train=0.890, test=0.941) total time=   0.0s\n",
      "[CV 1/10] END C=0.1, gamma=0.01; AUC: (train=0.991, test=1.000) Accuracy: (train=0.961, test=0.978) F1: (train=0.945, test=0.971) Precision: (train=1.000, test=1.000) Recall: (train=0.896, test=0.944) total time=   0.0s\n",
      "[CV 2/10] END C=0.1, gamma=0.01; AUC: (train=0.992, test=0.986) Accuracy: (train=0.961, test=0.935) F1: (train=0.945, test=0.914) Precision: (train=1.000, test=0.941) Recall: (train=0.896, test=0.889) total time=   0.0s\n",
      "[CV 3/10] END C=0.1, gamma=0.01; AUC: (train=0.991, test=0.994) Accuracy: (train=0.956, test=0.978) F1: (train=0.939, test=0.970) Precision: (train=0.986, test=1.000) Recall: (train=0.897, test=0.941) total time=   0.0s\n",
      "[CV 4/10] END C=0.1, gamma=0.01; AUC: (train=0.993, test=0.984) Accuracy: (train=0.963, test=0.891) F1: (train=0.949, test=0.828) Precision: (train=1.000, test=1.000) Recall: (train=0.903, test=0.706) total time=   0.0s\n",
      "[CV 5/10] END C=0.1, gamma=0.01; AUC: (train=0.991, test=0.996) Accuracy: (train=0.956, test=0.978) F1: (train=0.939, test=0.970) Precision: (train=0.993, test=1.000) Recall: (train=0.890, test=0.941) total time=   0.0s\n",
      "[CV 6/10] END C=0.1, gamma=0.01; AUC: (train=0.990, test=1.000) Accuracy: (train=0.956, test=0.978) F1: (train=0.938, test=0.970) Precision: (train=1.000, test=1.000) Recall: (train=0.884, test=0.941) total time=   0.0s\n",
      "[CV 7/10] END C=0.1, gamma=0.01; AUC: (train=0.994, test=0.975) Accuracy: (train=0.961, test=0.933) F1: (train=0.946, test=0.903) Precision: (train=1.000, test=1.000) Recall: (train=0.897, test=0.824) total time=   0.0s\n",
      "[CV 8/10] END C=0.1, gamma=0.01; AUC: (train=0.991, test=0.998) Accuracy: (train=0.956, test=0.978) F1: (train=0.938, test=0.970) Precision: (train=1.000, test=1.000) Recall: (train=0.884, test=0.941) total time=   0.0s\n",
      "[CV 9/10] END C=0.1, gamma=0.01; AUC: (train=0.991, test=1.000) Accuracy: (train=0.959, test=0.956) F1: (train=0.942, test=0.938) Precision: (train=1.000, test=1.000) Recall: (train=0.890, test=0.882) total time=   0.0s\n",
      "[CV 10/10] END C=0.1, gamma=0.01; AUC: (train=0.991, test=1.000) Accuracy: (train=0.959, test=0.978) F1: (train=0.942, test=0.970) Precision: (train=1.000, test=1.000) Recall: (train=0.890, test=0.941) total time=   0.0s\n",
      "[CV 1/10] END C=0.1, gamma=10; AUC: (train=0.991, test=1.000) Accuracy: (train=0.961, test=0.978) F1: (train=0.945, test=0.971) Precision: (train=1.000, test=1.000) Recall: (train=0.896, test=0.944) total time=   0.0s\n",
      "[CV 2/10] END C=0.1, gamma=10; AUC: (train=0.992, test=0.986) Accuracy: (train=0.961, test=0.935) F1: (train=0.945, test=0.914) Precision: (train=1.000, test=0.941) Recall: (train=0.896, test=0.889) total time=   0.0s\n",
      "[CV 3/10] END C=0.1, gamma=10; AUC: (train=0.991, test=0.994) Accuracy: (train=0.956, test=0.978) F1: (train=0.939, test=0.970) Precision: (train=0.986, test=1.000) Recall: (train=0.897, test=0.941) total time=   0.0s\n",
      "[CV 4/10] END C=0.1, gamma=10; AUC: (train=0.993, test=0.984) Accuracy: (train=0.963, test=0.891) F1: (train=0.949, test=0.828) Precision: (train=1.000, test=1.000) Recall: (train=0.903, test=0.706) total time=   0.0s\n",
      "[CV 5/10] END C=0.1, gamma=10; AUC: (train=0.991, test=0.996) Accuracy: (train=0.956, test=0.978) F1: (train=0.939, test=0.970) Precision: (train=0.993, test=1.000) Recall: (train=0.890, test=0.941) total time=   0.0s\n",
      "[CV 6/10] END C=0.1, gamma=10; AUC: (train=0.990, test=1.000) Accuracy: (train=0.956, test=0.978) F1: (train=0.938, test=0.970) Precision: (train=1.000, test=1.000) Recall: (train=0.884, test=0.941) total time=   0.0s\n",
      "[CV 7/10] END C=0.1, gamma=10; AUC: (train=0.994, test=0.975) Accuracy: (train=0.961, test=0.933) F1: (train=0.946, test=0.903) Precision: (train=1.000, test=1.000) Recall: (train=0.897, test=0.824) total time=   0.0s\n",
      "[CV 8/10] END C=0.1, gamma=10; AUC: (train=0.991, test=0.998) Accuracy: (train=0.956, test=0.978) F1: (train=0.938, test=0.970) Precision: (train=1.000, test=1.000) Recall: (train=0.884, test=0.941) total time=   0.0s\n",
      "[CV 9/10] END C=0.1, gamma=10; AUC: (train=0.991, test=1.000) Accuracy: (train=0.959, test=0.956) F1: (train=0.942, test=0.938) Precision: (train=1.000, test=1.000) Recall: (train=0.890, test=0.882) total time=   0.0s\n",
      "[CV 10/10] END C=0.1, gamma=10; AUC: (train=0.991, test=1.000) Accuracy: (train=0.959, test=0.978) F1: (train=0.942, test=0.970) Precision: (train=1.000, test=1.000) Recall: (train=0.890, test=0.941) total time=   0.0s\n",
      "[CV 1/10] END C=1, gamma=1; AUC: (train=0.995, test=1.000) Accuracy: (train=0.978, test=1.000) F1: (train=0.970, test=1.000) Precision: (train=1.000, test=1.000) Recall: (train=0.942, test=1.000) total time=   0.0s\n",
      "[CV 2/10] END C=1, gamma=1; AUC: (train=0.995, test=0.988) Accuracy: (train=0.976, test=0.935) F1: (train=0.966, test=0.914) Precision: (train=1.000, test=0.941) Recall: (train=0.935, test=0.889) total time=   0.0s\n",
      "[CV 3/10] END C=1, gamma=1; AUC: (train=0.994, test=1.000) Accuracy: (train=0.978, test=0.978) F1: (train=0.970, test=0.970) Precision: (train=1.000, test=1.000) Recall: (train=0.942, test=0.941) total time=   0.0s\n",
      "[CV 4/10] END C=1, gamma=1; AUC: (train=0.995, test=0.992) Accuracy: (train=0.978, test=0.957) F1: (train=0.970, test=0.938) Precision: (train=1.000, test=1.000) Recall: (train=0.942, test=0.882) total time=   0.0s\n",
      "[CV 5/10] END C=1, gamma=1; AUC: (train=0.994, test=1.000) Accuracy: (train=0.976, test=0.978) F1: (train=0.967, test=0.970) Precision: (train=1.000, test=1.000) Recall: (train=0.935, test=0.941) total time=   0.0s\n",
      "[CV 6/10] END C=1, gamma=1; AUC: (train=0.994, test=1.000) Accuracy: (train=0.973, test=1.000) F1: (train=0.963, test=1.000) Precision: (train=1.000, test=1.000) Recall: (train=0.929, test=1.000) total time=   0.0s\n",
      "[CV 7/10] END C=1, gamma=1; AUC: (train=0.998, test=0.981) Accuracy: (train=0.976, test=0.956) F1: (train=0.967, test=0.938) Precision: (train=0.993, test=1.000) Recall: (train=0.942, test=0.882) total time=   0.0s\n",
      "[CV 8/10] END C=1, gamma=1; AUC: (train=0.994, test=1.000) Accuracy: (train=0.973, test=1.000) F1: (train=0.963, test=1.000) Precision: (train=0.993, test=1.000) Recall: (train=0.935, test=1.000) total time=   0.0s\n",
      "[CV 9/10] END C=1, gamma=1; AUC: (train=0.995, test=1.000) Accuracy: (train=0.973, test=0.978) F1: (train=0.963, test=0.970) Precision: (train=0.993, test=1.000) Recall: (train=0.935, test=0.941) total time=   0.0s\n",
      "[CV 10/10] END C=1, gamma=1; AUC: (train=0.994, test=1.000) Accuracy: (train=0.978, test=0.956) F1: (train=0.970, test=0.938) Precision: (train=1.000, test=1.000) Recall: (train=0.942, test=0.882) total time=   0.0s\n",
      "[CV 1/10] END C=1, gamma=0.1; AUC: (train=0.995, test=1.000) Accuracy: (train=0.978, test=1.000) F1: (train=0.970, test=1.000) Precision: (train=1.000, test=1.000) Recall: (train=0.942, test=1.000) total time=   0.0s\n",
      "[CV 2/10] END C=1, gamma=0.1; AUC: (train=0.995, test=0.988) Accuracy: (train=0.976, test=0.935) F1: (train=0.966, test=0.914) Precision: (train=1.000, test=0.941) Recall: (train=0.935, test=0.889) total time=   0.0s\n",
      "[CV 3/10] END C=1, gamma=0.1; AUC: (train=0.994, test=1.000) Accuracy: (train=0.978, test=0.978) F1: (train=0.970, test=0.970) Precision: (train=1.000, test=1.000) Recall: (train=0.942, test=0.941) total time=   0.0s\n",
      "[CV 4/10] END C=1, gamma=0.1; AUC: (train=0.995, test=0.992) Accuracy: (train=0.978, test=0.957) F1: (train=0.970, test=0.938) Precision: (train=1.000, test=1.000) Recall: (train=0.942, test=0.882) total time=   0.0s\n",
      "[CV 5/10] END C=1, gamma=0.1; AUC: (train=0.994, test=1.000) Accuracy: (train=0.976, test=0.978) F1: (train=0.967, test=0.970) Precision: (train=1.000, test=1.000) Recall: (train=0.935, test=0.941) total time=   0.0s\n",
      "[CV 6/10] END C=1, gamma=0.1; AUC: (train=0.994, test=1.000) Accuracy: (train=0.973, test=1.000) F1: (train=0.963, test=1.000) Precision: (train=1.000, test=1.000) Recall: (train=0.929, test=1.000) total time=   0.0s\n",
      "[CV 7/10] END C=1, gamma=0.1; AUC: (train=0.998, test=0.981) Accuracy: (train=0.976, test=0.956) F1: (train=0.967, test=0.938) Precision: (train=0.993, test=1.000) Recall: (train=0.942, test=0.882) total time=   0.0s\n",
      "[CV 8/10] END C=1, gamma=0.1; AUC: (train=0.994, test=1.000) Accuracy: (train=0.973, test=1.000) F1: (train=0.963, test=1.000) Precision: (train=0.993, test=1.000) Recall: (train=0.935, test=1.000) total time=   0.0s\n",
      "[CV 9/10] END C=1, gamma=0.1; AUC: (train=0.995, test=1.000) Accuracy: (train=0.973, test=0.978) F1: (train=0.963, test=0.970) Precision: (train=0.993, test=1.000) Recall: (train=0.935, test=0.941) total time=   0.0s\n",
      "[CV 10/10] END C=1, gamma=0.1; AUC: (train=0.994, test=1.000) Accuracy: (train=0.978, test=0.956) F1: (train=0.970, test=0.938) Precision: (train=1.000, test=1.000) Recall: (train=0.942, test=0.882) total time=   0.0s\n",
      "[CV 1/10] END C=1, gamma=0.01; AUC: (train=0.995, test=1.000) Accuracy: (train=0.978, test=1.000) F1: (train=0.970, test=1.000) Precision: (train=1.000, test=1.000) Recall: (train=0.942, test=1.000) total time=   0.0s\n",
      "[CV 2/10] END C=1, gamma=0.01; AUC: (train=0.995, test=0.988) Accuracy: (train=0.976, test=0.935) F1: (train=0.966, test=0.914) Precision: (train=1.000, test=0.941) Recall: (train=0.935, test=0.889) total time=   0.0s\n",
      "[CV 3/10] END C=1, gamma=0.01; AUC: (train=0.994, test=1.000) Accuracy: (train=0.978, test=0.978) F1: (train=0.970, test=0.970) Precision: (train=1.000, test=1.000) Recall: (train=0.942, test=0.941) total time=   0.0s\n",
      "[CV 4/10] END C=1, gamma=0.01; AUC: (train=0.995, test=0.992) Accuracy: (train=0.978, test=0.957) F1: (train=0.970, test=0.938) Precision: (train=1.000, test=1.000) Recall: (train=0.942, test=0.882) total time=   0.0s\n",
      "[CV 5/10] END C=1, gamma=0.01; AUC: (train=0.994, test=1.000) Accuracy: (train=0.976, test=0.978) F1: (train=0.967, test=0.970) Precision: (train=1.000, test=1.000) Recall: (train=0.935, test=0.941) total time=   0.0s\n",
      "[CV 6/10] END C=1, gamma=0.01; AUC: (train=0.994, test=1.000) Accuracy: (train=0.973, test=1.000) F1: (train=0.963, test=1.000) Precision: (train=1.000, test=1.000) Recall: (train=0.929, test=1.000) total time=   0.0s\n",
      "[CV 7/10] END C=1, gamma=0.01; AUC: (train=0.998, test=0.981) Accuracy: (train=0.976, test=0.956) F1: (train=0.967, test=0.938) Precision: (train=0.993, test=1.000) Recall: (train=0.942, test=0.882) total time=   0.0s\n",
      "[CV 8/10] END C=1, gamma=0.01; AUC: (train=0.994, test=1.000) Accuracy: (train=0.973, test=1.000) F1: (train=0.963, test=1.000) Precision: (train=0.993, test=1.000) Recall: (train=0.935, test=1.000) total time=   0.0s\n",
      "[CV 9/10] END C=1, gamma=0.01; AUC: (train=0.995, test=1.000) Accuracy: (train=0.973, test=0.978) F1: (train=0.963, test=0.970) Precision: (train=0.993, test=1.000) Recall: (train=0.935, test=0.941) total time=   0.0s\n",
      "[CV 10/10] END C=1, gamma=0.01; AUC: (train=0.994, test=1.000) Accuracy: (train=0.978, test=0.956) F1: (train=0.970, test=0.938) Precision: (train=1.000, test=1.000) Recall: (train=0.942, test=0.882) total time=   0.0s\n",
      "[CV 1/10] END C=1, gamma=10; AUC: (train=0.995, test=1.000) Accuracy: (train=0.978, test=1.000) F1: (train=0.970, test=1.000) Precision: (train=1.000, test=1.000) Recall: (train=0.942, test=1.000) total time=   0.0s\n",
      "[CV 2/10] END C=1, gamma=10; AUC: (train=0.995, test=0.988) Accuracy: (train=0.976, test=0.935) F1: (train=0.966, test=0.914) Precision: (train=1.000, test=0.941) Recall: (train=0.935, test=0.889) total time=   0.0s\n",
      "[CV 3/10] END C=1, gamma=10; AUC: (train=0.994, test=1.000) Accuracy: (train=0.978, test=0.978) F1: (train=0.970, test=0.970) Precision: (train=1.000, test=1.000) Recall: (train=0.942, test=0.941) total time=   0.0s\n",
      "[CV 4/10] END C=1, gamma=10; AUC: (train=0.995, test=0.992) Accuracy: (train=0.978, test=0.957) F1: (train=0.970, test=0.938) Precision: (train=1.000, test=1.000) Recall: (train=0.942, test=0.882) total time=   0.0s\n",
      "[CV 5/10] END C=1, gamma=10; AUC: (train=0.994, test=1.000) Accuracy: (train=0.976, test=0.978) F1: (train=0.967, test=0.970) Precision: (train=1.000, test=1.000) Recall: (train=0.935, test=0.941) total time=   0.0s\n",
      "[CV 6/10] END C=1, gamma=10; AUC: (train=0.994, test=1.000) Accuracy: (train=0.973, test=1.000) F1: (train=0.963, test=1.000) Precision: (train=1.000, test=1.000) Recall: (train=0.929, test=1.000) total time=   0.0s\n",
      "[CV 7/10] END C=1, gamma=10; AUC: (train=0.998, test=0.981) Accuracy: (train=0.976, test=0.956) F1: (train=0.967, test=0.938) Precision: (train=0.993, test=1.000) Recall: (train=0.942, test=0.882) total time=   0.0s\n",
      "[CV 8/10] END C=1, gamma=10; AUC: (train=0.994, test=1.000) Accuracy: (train=0.973, test=1.000) F1: (train=0.963, test=1.000) Precision: (train=0.993, test=1.000) Recall: (train=0.935, test=1.000) total time=   0.0s\n",
      "[CV 9/10] END C=1, gamma=10; AUC: (train=0.995, test=1.000) Accuracy: (train=0.973, test=0.978) F1: (train=0.963, test=0.970) Precision: (train=0.993, test=1.000) Recall: (train=0.935, test=0.941) total time=   0.0s\n",
      "[CV 10/10] END C=1, gamma=10; AUC: (train=0.994, test=1.000) Accuracy: (train=0.978, test=0.956) F1: (train=0.970, test=0.938) Precision: (train=1.000, test=1.000) Recall: (train=0.942, test=0.882) total time=   0.0s\n",
      "[CV 1/10] END C=10, gamma=1; AUC: (train=0.996, test=1.000) Accuracy: (train=0.978, test=0.978) F1: (train=0.970, test=0.973) Precision: (train=0.987, test=0.947) Recall: (train=0.955, test=1.000) total time=   0.0s\n",
      "[CV 2/10] END C=10, gamma=1; AUC: (train=0.998, test=0.988) Accuracy: (train=0.983, test=0.935) F1: (train=0.977, test=0.914) Precision: (train=1.000, test=0.941) Recall: (train=0.955, test=0.889) total time=   0.0s\n",
      "[CV 3/10] END C=10, gamma=1; AUC: (train=0.996, test=1.000) Accuracy: (train=0.983, test=1.000) F1: (train=0.977, test=1.000) Precision: (train=0.993, test=1.000) Recall: (train=0.961, test=1.000) total time=   0.0s\n",
      "[CV 4/10] END C=10, gamma=1; AUC: (train=0.996, test=1.000) Accuracy: (train=0.983, test=0.957) F1: (train=0.977, test=0.938) Precision: (train=0.993, test=1.000) Recall: (train=0.961, test=0.882) total time=   0.0s\n",
      "[CV 5/10] END C=10, gamma=1; AUC: (train=0.997, test=1.000) Accuracy: (train=0.985, test=0.978) F1: (train=0.980, test=0.970) Precision: (train=0.993, test=1.000) Recall: (train=0.968, test=0.941) total time=   0.0s\n",
      "[CV 6/10] END C=10, gamma=1; AUC: (train=0.996, test=1.000) Accuracy: (train=0.980, test=1.000) F1: (train=0.974, test=1.000) Precision: (train=0.993, test=1.000) Recall: (train=0.955, test=1.000) total time=   0.0s\n",
      "[CV 7/10] END C=10, gamma=1; AUC: (train=0.999, test=0.977) Accuracy: (train=0.983, test=0.956) F1: (train=0.977, test=0.938) Precision: (train=0.993, test=1.000) Recall: (train=0.961, test=0.882) total time=   0.0s\n",
      "[CV 8/10] END C=10, gamma=1; AUC: (train=0.997, test=1.000) Accuracy: (train=0.983, test=1.000) F1: (train=0.977, test=1.000) Precision: (train=0.993, test=1.000) Recall: (train=0.961, test=1.000) total time=   0.0s\n",
      "[CV 9/10] END C=10, gamma=1; AUC: (train=0.996, test=1.000) Accuracy: (train=0.980, test=0.956) F1: (train=0.974, test=0.938) Precision: (train=0.987, test=1.000) Recall: (train=0.961, test=0.882) total time=   0.0s\n",
      "[CV 10/10] END C=10, gamma=1; AUC: (train=0.996, test=1.000) Accuracy: (train=0.980, test=0.956) F1: (train=0.974, test=0.938) Precision: (train=0.993, test=1.000) Recall: (train=0.955, test=0.882) total time=   0.0s\n",
      "[CV 1/10] END C=10, gamma=0.1; AUC: (train=0.996, test=1.000) Accuracy: (train=0.978, test=0.978) F1: (train=0.970, test=0.973) Precision: (train=0.987, test=0.947) Recall: (train=0.955, test=1.000) total time=   0.0s\n",
      "[CV 2/10] END C=10, gamma=0.1; AUC: (train=0.998, test=0.988) Accuracy: (train=0.983, test=0.935) F1: (train=0.977, test=0.914) Precision: (train=1.000, test=0.941) Recall: (train=0.955, test=0.889) total time=   0.0s\n",
      "[CV 3/10] END C=10, gamma=0.1; AUC: (train=0.996, test=1.000) Accuracy: (train=0.983, test=1.000) F1: (train=0.977, test=1.000) Precision: (train=0.993, test=1.000) Recall: (train=0.961, test=1.000) total time=   0.0s\n",
      "[CV 4/10] END C=10, gamma=0.1; AUC: (train=0.996, test=1.000) Accuracy: (train=0.983, test=0.957) F1: (train=0.977, test=0.938) Precision: (train=0.993, test=1.000) Recall: (train=0.961, test=0.882) total time=   0.0s\n",
      "[CV 5/10] END C=10, gamma=0.1; AUC: (train=0.997, test=1.000) Accuracy: (train=0.985, test=0.978) F1: (train=0.980, test=0.970) Precision: (train=0.993, test=1.000) Recall: (train=0.968, test=0.941) total time=   0.0s\n",
      "[CV 6/10] END C=10, gamma=0.1; AUC: (train=0.996, test=1.000) Accuracy: (train=0.980, test=1.000) F1: (train=0.974, test=1.000) Precision: (train=0.993, test=1.000) Recall: (train=0.955, test=1.000) total time=   0.0s\n",
      "[CV 7/10] END C=10, gamma=0.1; AUC: (train=0.999, test=0.977) Accuracy: (train=0.983, test=0.956) F1: (train=0.977, test=0.938) Precision: (train=0.993, test=1.000) Recall: (train=0.961, test=0.882) total time=   0.0s\n",
      "[CV 8/10] END C=10, gamma=0.1; AUC: (train=0.997, test=1.000) Accuracy: (train=0.983, test=1.000) F1: (train=0.977, test=1.000) Precision: (train=0.993, test=1.000) Recall: (train=0.961, test=1.000) total time=   0.0s\n",
      "[CV 9/10] END C=10, gamma=0.1; AUC: (train=0.996, test=1.000) Accuracy: (train=0.980, test=0.956) F1: (train=0.974, test=0.938) Precision: (train=0.987, test=1.000) Recall: (train=0.961, test=0.882) total time=   0.0s\n",
      "[CV 10/10] END C=10, gamma=0.1; AUC: (train=0.996, test=1.000) Accuracy: (train=0.980, test=0.956) F1: (train=0.974, test=0.938) Precision: (train=0.993, test=1.000) Recall: (train=0.955, test=0.882) total time=   0.0s\n",
      "[CV 1/10] END C=10, gamma=0.01; AUC: (train=0.996, test=1.000) Accuracy: (train=0.978, test=0.978) F1: (train=0.970, test=0.973) Precision: (train=0.987, test=0.947) Recall: (train=0.955, test=1.000) total time=   0.0s\n",
      "[CV 2/10] END C=10, gamma=0.01; AUC: (train=0.998, test=0.988) Accuracy: (train=0.983, test=0.935) F1: (train=0.977, test=0.914) Precision: (train=1.000, test=0.941) Recall: (train=0.955, test=0.889) total time=   0.0s\n",
      "[CV 3/10] END C=10, gamma=0.01; AUC: (train=0.996, test=1.000) Accuracy: (train=0.983, test=1.000) F1: (train=0.977, test=1.000) Precision: (train=0.993, test=1.000) Recall: (train=0.961, test=1.000) total time=   0.0s\n",
      "[CV 4/10] END C=10, gamma=0.01; AUC: (train=0.996, test=1.000) Accuracy: (train=0.983, test=0.957) F1: (train=0.977, test=0.938) Precision: (train=0.993, test=1.000) Recall: (train=0.961, test=0.882) total time=   0.0s\n",
      "[CV 5/10] END C=10, gamma=0.01; AUC: (train=0.997, test=1.000) Accuracy: (train=0.985, test=0.978) F1: (train=0.980, test=0.970) Precision: (train=0.993, test=1.000) Recall: (train=0.968, test=0.941) total time=   0.0s\n",
      "[CV 6/10] END C=10, gamma=0.01; AUC: (train=0.996, test=1.000) Accuracy: (train=0.980, test=1.000) F1: (train=0.974, test=1.000) Precision: (train=0.993, test=1.000) Recall: (train=0.955, test=1.000) total time=   0.0s\n",
      "[CV 7/10] END C=10, gamma=0.01; AUC: (train=0.999, test=0.977) Accuracy: (train=0.983, test=0.956) F1: (train=0.977, test=0.938) Precision: (train=0.993, test=1.000) Recall: (train=0.961, test=0.882) total time=   0.0s\n",
      "[CV 8/10] END C=10, gamma=0.01; AUC: (train=0.997, test=1.000) Accuracy: (train=0.983, test=1.000) F1: (train=0.977, test=1.000) Precision: (train=0.993, test=1.000) Recall: (train=0.961, test=1.000) total time=   0.0s\n",
      "[CV 9/10] END C=10, gamma=0.01; AUC: (train=0.996, test=1.000) Accuracy: (train=0.980, test=0.956) F1: (train=0.974, test=0.938) Precision: (train=0.987, test=1.000) Recall: (train=0.961, test=0.882) total time=   0.0s\n",
      "[CV 10/10] END C=10, gamma=0.01; AUC: (train=0.996, test=1.000) Accuracy: (train=0.980, test=0.956) F1: (train=0.974, test=0.938) Precision: (train=0.993, test=1.000) Recall: (train=0.955, test=0.882) total time=   0.0s\n",
      "[CV 1/10] END C=10, gamma=10; AUC: (train=0.996, test=1.000) Accuracy: (train=0.978, test=0.978) F1: (train=0.970, test=0.973) Precision: (train=0.987, test=0.947) Recall: (train=0.955, test=1.000) total time=   0.0s\n",
      "[CV 2/10] END C=10, gamma=10; AUC: (train=0.998, test=0.988) Accuracy: (train=0.983, test=0.935) F1: (train=0.977, test=0.914) Precision: (train=1.000, test=0.941) Recall: (train=0.955, test=0.889) total time=   0.0s\n",
      "[CV 3/10] END C=10, gamma=10; AUC: (train=0.996, test=1.000) Accuracy: (train=0.983, test=1.000) F1: (train=0.977, test=1.000) Precision: (train=0.993, test=1.000) Recall: (train=0.961, test=1.000) total time=   0.0s\n",
      "[CV 4/10] END C=10, gamma=10; AUC: (train=0.996, test=1.000) Accuracy: (train=0.983, test=0.957) F1: (train=0.977, test=0.938) Precision: (train=0.993, test=1.000) Recall: (train=0.961, test=0.882) total time=   0.0s\n",
      "[CV 5/10] END C=10, gamma=10; AUC: (train=0.997, test=1.000) Accuracy: (train=0.985, test=0.978) F1: (train=0.980, test=0.970) Precision: (train=0.993, test=1.000) Recall: (train=0.968, test=0.941) total time=   0.0s\n",
      "[CV 6/10] END C=10, gamma=10; AUC: (train=0.996, test=1.000) Accuracy: (train=0.980, test=1.000) F1: (train=0.974, test=1.000) Precision: (train=0.993, test=1.000) Recall: (train=0.955, test=1.000) total time=   0.0s\n",
      "[CV 7/10] END C=10, gamma=10; AUC: (train=0.999, test=0.977) Accuracy: (train=0.983, test=0.956) F1: (train=0.977, test=0.938) Precision: (train=0.993, test=1.000) Recall: (train=0.961, test=0.882) total time=   0.0s\n",
      "[CV 8/10] END C=10, gamma=10; AUC: (train=0.997, test=1.000) Accuracy: (train=0.983, test=1.000) F1: (train=0.977, test=1.000) Precision: (train=0.993, test=1.000) Recall: (train=0.961, test=1.000) total time=   0.0s\n",
      "[CV 9/10] END C=10, gamma=10; AUC: (train=0.996, test=1.000) Accuracy: (train=0.980, test=0.956) F1: (train=0.974, test=0.938) Precision: (train=0.987, test=1.000) Recall: (train=0.961, test=0.882) total time=   0.0s\n",
      "[CV 10/10] END C=10, gamma=10; AUC: (train=0.996, test=1.000) Accuracy: (train=0.980, test=0.956) F1: (train=0.974, test=0.938) Precision: (train=0.993, test=1.000) Recall: (train=0.955, test=0.882) total time=   0.0s\n"
     ]
    },
    {
     "data": {
      "text/plain": [
       "GridSearchCV(cv=10, estimator=SVC(kernel='linear'),\n",
       "             param_grid={'C': [0.1, 1, 10], 'gamma': [1, 0.1, 0.01, 10]},\n",
       "             refit='Accuracy', return_train_score=True,\n",
       "             scoring={'AUC': 'roc_auc', 'Accuracy': make_scorer(accuracy_score),\n",
       "                      'F1': 'f1', 'Precision': 'precision',\n",
       "                      'Recall': 'recall'},\n",
       "             verbose=3)"
      ]
     },
     "execution_count": 13,
     "metadata": {},
     "output_type": "execute_result"
    }
   ],
   "source": [
    "from sklearn.model_selection import GridSearchCV\n",
    "  \n",
    "# defining parameter range\n",
    "param_grid = {'C': [0.1, 1, 10], \n",
    "              'gamma': [1, 0.1, 0.01,10]\n",
    "             } \n",
    "scoring = {\"AUC\": \"roc_auc\", \"Accuracy\": make_scorer(accuracy_score),\"F1\":\"f1\",\"Precision\":\"precision\",\"Recall\":\"recall\"}\n",
    "  \n",
    "grid = GridSearchCV(svm.SVC(kernel='linear'), param_grid=param_grid,refit=\"Accuracy\", verbose = 3,cv=10,scoring=scoring,return_train_score=True)\n",
    "# fitting the model for grid search\n",
    "grid.fit(X_train, y_train)\n",
    "\n"
   ]
  },
  {
   "cell_type": "code",
   "execution_count": 14,
   "id": "abb84e54",
   "metadata": {},
   "outputs": [
    {
     "name": "stdout",
     "output_type": "stream",
     "text": [
      "{'C': 1, 'gamma': 1}\n"
     ]
    }
   ],
   "source": [
    "print(grid.best_params_)"
   ]
  },
  {
   "cell_type": "code",
   "execution_count": 15,
   "id": "546a3c6c",
   "metadata": {},
   "outputs": [
    {
     "name": "stdout",
     "output_type": "stream",
     "text": [
      "              precision    recall  f1-score   support\n",
      "\n",
      "           0       0.97      0.99      0.98        74\n",
      "           1       0.97      0.95      0.96        40\n",
      "\n",
      "    accuracy                           0.97       114\n",
      "   macro avg       0.97      0.97      0.97       114\n",
      "weighted avg       0.97      0.97      0.97       114\n",
      "\n",
      "ROC AUC: 0.9682\n"
     ]
    }
   ],
   "source": [
    "grid_predictions = grid.predict(X_test)\n",
    "print(classification_report(y_test, grid_predictions))\n",
    "score = roc_auc_score(y_test, grid_predictions)\n",
    "print(f\"ROC AUC: {score:.4f}\")"
   ]
  },
  {
   "cell_type": "code",
   "execution_count": 24,
   "id": "4695717a",
   "metadata": {},
   "outputs": [
    {
     "data": {
      "image/png": "[encoded data removed]",
      "text/plain": [
       "<Figure size 432x288 with 1 Axes>"
      ]
     },
     "metadata": {
      "needs_background": "light"
     },
     "output_type": "display_data"
    },
    {
     "data": {
      "image/png": "[encoded data removed]",
      "text/plain": [
       "<Figure size 432x288 with 1 Axes>"
      ]
     },
     "metadata": {
      "needs_background": "light"
     },
     "output_type": "display_data"
    },
    {
     "data": {
      "image/png": "[encoded data removed]",
      "text/plain": [
       "<Figure size 432x288 with 1 Axes>"
      ]
     },
     "metadata": {
      "needs_background": "light"
     },
     "output_type": "display_data"
    }
   ],
   "source": [
    "df = pd.DataFrame(grid.cv_results_)\n",
    "df1=df.sort_values(by='param_C')\n",
    "\n",
    "x = df1['param_C']\n",
    "y=df['mean_test_Accuracy']\n",
    "z=df['std_test_Accuracy'] * df1['std_test_Accuracy']\n",
    "m=df['mean_train_Accuracy']\n",
    "fig = plt.figure()\n",
    "ax = plt.axes()\n",
    "plt.xlabel(\"C value\")\n",
    "plt.ylabel(\"Test Accuracy\")\n",
    "ax.plot(x,y,color='blue')\n",
    "plt.show()\n",
    "fig = plt.figure()\n",
    "ax = plt.axes()\n",
    "plt.xlabel(\"C value\")\n",
    "plt.ylabel(\"Variance\")\n",
    "ax.plot(x,z,color='blue')\n",
    "plt.show()\n",
    "fig = plt.figure()\n",
    "ax = plt.axes()\n",
    "plt.xlabel(\"C value\")\n",
    "plt.ylabel(\"Train Accuracy\")\n",
    "ax.plot(x,m,color='blue')\n",
    "plt.show()"
   ]
  },
  {
   "cell_type": "code",
   "execution_count": 51,
   "id": "b0944997",
   "metadata": {},
   "outputs": [
    {
     "data": {
      "image/png": "[encoded data removed]",
      "text/plain": [
       "<Figure size 432x288 with 1 Axes>"
      ]
     },
     "metadata": {
      "needs_background": "light"
     },
     "output_type": "display_data"
    },
    {
     "data": {
      "image/png": "[encoded data removed]",
      "text/plain": [
       "<Figure size 432x288 with 1 Axes>"
      ]
     },
     "metadata": {
      "needs_background": "light"
     },
     "output_type": "display_data"
    },
    {
     "data": {
      "image/png": "[encoded data removed]",
      "text/plain": [
       "<Figure size 432x288 with 1 Axes>"
      ]
     },
     "metadata": {
      "needs_background": "light"
     },
     "output_type": "display_data"
    }
   ],
   "source": [
    "df = pd.DataFrame(grid.cv_results_)\n",
    "\n",
    "df=df.groupby(['param_gamma']).mean()\n",
    "\n",
    "\n",
    "x = df.index\n",
    "y=df['mean_test_Accuracy']\n",
    "z=df['std_test_Accuracy'] * df['std_test_Accuracy']\n",
    "m=df['mean_train_Accuracy']\n",
    "fig = plt.figure()\n",
    "ax = plt.axes()\n",
    "plt.xlabel(\"Gamma value\")\n",
    "plt.ylabel(\"Mean Accuracy\")\n",
    "ax.plot(x,y,color='blue')\n",
    "plt.show()\n",
    "fig = plt.figure()\n",
    "ax = plt.axes()\n",
    "plt.xlabel(\"Gamma value\")\n",
    "plt.ylabel(\"Standard Deviation\")\n",
    "ax.plot(x,z,color='blue')\n",
    "plt.show()\n",
    "\n",
    "fig = plt.figure()\n",
    "ax = plt.axes()\n",
    "plt.xlabel(\"Gamma value\")\n",
    "plt.ylabel(\"train accuracy\")\n",
    "ax.plot(x,m,color='blue')\n",
    "plt.show()"
   ]
  },
  {
   "cell_type": "markdown",
   "id": "ed79c4eb",
   "metadata": {},
   "source": [
    "# 10 FOLD CROSS VALIDATION"
   ]
  },
  {
   "cell_type": "code",
   "execution_count": 34,
   "id": "8d187762",
   "metadata": {},
   "outputs": [
    {
     "name": "stdout",
     "output_type": "stream",
     "text": [
      "Fold: 0. Accuracy = 0.912, precision = 1.000, recall = 0.773, f1 = 0.872, AUC = 0.886\n",
      "Fold: 1. Accuracy = 0.825, precision = 1.000, recall = 0.545, f1 = 0.706, AUC = 0.773\n",
      "Fold: 2. Accuracy = 0.895, precision = 1.000, recall = 0.714, f1 = 0.833, AUC = 0.857\n",
      "Fold: 3. Accuracy = 0.860, precision = 1.000, recall = 0.619, f1 = 0.765, AUC = 0.810\n",
      "Fold: 4. Accuracy = 0.842, precision = 1.000, recall = 0.571, f1 = 0.727, AUC = 0.786\n",
      "Fold: 5. Accuracy = 0.895, precision = 1.000, recall = 0.714, f1 = 0.833, AUC = 0.857\n",
      "Fold: 6. Accuracy = 0.912, precision = 1.000, recall = 0.762, f1 = 0.865, AUC = 0.881\n",
      "Fold: 7. Accuracy = 0.860, precision = 1.000, recall = 0.619, f1 = 0.765, AUC = 0.810\n",
      "Fold: 8. Accuracy = 0.825, precision = 1.000, recall = 0.524, f1 = 0.688, AUC = 0.762\n",
      "Fold: 9. Accuracy = 0.893, precision = 1.000, recall = 0.714, f1 = 0.833, AUC = 0.857\n",
      "List of possible accuracy: [0.9122807017543859, 0.8245614035087719, 0.8947368421052632, 0.8596491228070176, 0.8421052631578947, 0.8947368421052632, 0.9122807017543859, 0.8596491228070176, 0.8245614035087719, 0.8928571428571429]\n",
      "\n",
      "Maximum Accuracy That can be obtained from this model is: 91.22807017543859 %\n",
      "\n",
      "Minimum Accuracy: 82.45614035087719 %\n",
      "\n",
      "Overall Accuracy: 87.17418546365914 %\n",
      "\n",
      "Standard Deviation is: 0.03401466409786258\n"
     ]
    }
   ],
   "source": [
    "from statistics import mean, stdev\n",
    "from sklearn import preprocessing\n",
    "from sklearn.model_selection import StratifiedKFold\n",
    "from sklearn import linear_model\n",
    "from sklearn import datasets\n",
    "from sklearn.metrics import precision_score, recall_score, f1_score\n",
    "\n",
    "scaler = preprocessing.MinMaxScaler()\n",
    "x_scaled = scaler.fit_transform(X)\n",
    "\n",
    "svm1 = svm.SVC(kernel='linear', C = 0.01)\n",
    "ct=0\n",
    "skf = StratifiedKFold(n_splits=10, shuffle=True, random_state=1)\n",
    "lst_accu_stratified = []\n",
    "  \n",
    "for train_index, test_index in skf.split(X, y):\n",
    "    x_train_fold, x_test_fold = x_scaled[train_index], x_scaled[test_index]\n",
    "    y_train_fold, y_test_fold = y[train_index], y[test_index]\n",
    "    svm1.fit(x_train_fold, y_train_fold)\n",
    "    y_pred=svm1.predict(x_test_fold)\n",
    "    lst_accu_stratified.append(svm1.score(x_test_fold, y_test_fold))\n",
    "    accr = accuracy_score(y_test_fold, y_pred)\n",
    "    precision = precision_score(y_test_fold, y_pred)\n",
    "    recall = recall_score(y_test_fold, y_pred)\n",
    "    f1 = f1_score(y_test_fold, y_pred)\n",
    "    roc = roc_auc_score(y_test_fold, y_pred, average='weighted')\n",
    "    print(f\"Fold: {ct}. Accuracy = {accr:.3f}, precision = {precision:.3f}, recall = {recall:.3f}, f1 = {f1:.3f}, AUC = {roc:.3f}\")\n",
    "    ct+=1\n",
    "\n",
    "print('List of possible accuracy:', lst_accu_stratified)\n",
    "print('\\nMaximum Accuracy That can be obtained from this model is:',\n",
    "      max(lst_accu_stratified)*100, '%')\n",
    "print('\\nMinimum Accuracy:',\n",
    "      min(lst_accu_stratified)*100, '%')\n",
    "print('\\nOverall Accuracy:',\n",
    "      mean(lst_accu_stratified)*100, '%')\n",
    "print('\\nStandard Deviation is:', stdev(lst_accu_stratified))"
   ]
  },
  {
   "cell_type": "markdown",
   "id": "57aa11d2",
   "metadata": {},
   "source": [
    "# SVM FOR DATASET 2"
   ]
  },
  {
   "cell_type": "code",
   "execution_count": 46,
   "id": "49c1c273",
   "metadata": {},
   "outputs": [],
   "source": [
    "df = pd.read_csv(\"project3_dataset2.txt\",sep='\\t',header=None)"
   ]
  },
  {
   "cell_type": "code",
   "execution_count": 47,
   "id": "daef83d9",
   "metadata": {},
   "outputs": [],
   "source": [
    "df[df.isna().any(axis=1)]\n",
    "df.loc[ df[4] == 'Absent', 4] = 0\n",
    "df.loc[ df[4] == 'Present', 4] = 1\n",
    "\n",
    "X=df.iloc[:, 0:8]\n",
    "y=df.iloc[:,-1]\n",
    "\n",
    "mms = MinMaxScaler()\n",
    "X = mms.fit_transform(X)"
   ]
  },
  {
   "cell_type": "code",
   "execution_count": 48,
   "id": "c32f67c0",
   "metadata": {},
   "outputs": [],
   "source": [
    "X_train, X_test, y_train, y_test = train_test_split(X, y, test_size=0.3, random_state=0)\n",
    "svm1 = svm.SVC(kernel=\"linear\")\n",
    "svm1.fit(X_test,y_test)\n",
    "y_train_pred = svm1.predict(X_train)\n",
    "y_test_pred = svm1.predict(X_test)"
   ]
  },
  {
   "cell_type": "code",
   "execution_count": 49,
   "id": "3a60e2df",
   "metadata": {},
   "outputs": [
    {
     "name": "stdout",
     "output_type": "stream",
     "text": [
      "The metrics for dataset 2 are : \n",
      "               precision    recall  f1-score   support\n",
      "\n",
      "           0       0.78      0.78      0.78        88\n",
      "           1       0.63      0.63      0.63        51\n",
      "\n",
      "    accuracy                           0.73       139\n",
      "   macro avg       0.71      0.71      0.71       139\n",
      "weighted avg       0.73      0.73      0.73       139\n",
      "\n",
      "\n",
      " The accuracy for dataset 2 is :  0.7266187050359713\n"
     ]
    }
   ],
   "source": [
    "print(\"The metrics for dataset 2 are : \\n\",classification_report(y_test,y_test_pred))\n",
    "print(\"\\n The accuracy for dataset 2 is : \",accuracy_score(y_test,y_test_pred))"
   ]
  },
  {
   "cell_type": "code",
   "execution_count": 50,
   "id": "09a75dcf",
   "metadata": {},
   "outputs": [
    {
     "name": "stdout",
     "output_type": "stream",
     "text": [
      "Fitting 10 folds for each of 9 candidates, totalling 90 fits\n",
      "[CV 1/10] END C=0.1, gamma=1; AUC: (train=0.773, test=0.587) Accuracy: (train=0.662, test=0.667) F1: (train=0.000, test=0.000) Precision: (train=0.000, test=0.000) Recall: (train=0.000, test=0.000) total time=   0.0s\n",
      "[CV 2/10] END C=0.1, gamma=1; AUC: (train=0.763, test=0.661) Accuracy: (train=0.662, test=0.667) F1: (train=0.000, test=0.000) Precision: (train=0.000, test=0.000) Recall: (train=0.000, test=0.000) total time=   0.0s\n",
      "[CV 3/10] END C=0.1, gamma=1; AUC: (train=0.761, test=0.740) Accuracy: (train=0.662, test=0.667) F1: (train=0.000, test=0.000) Precision: (train=0.000, test=0.000) Recall: (train=0.000, test=0.000) total time=   0.0s\n",
      "[CV 4/10] END C=0.1, gamma=1; AUC: (train=0.764, test=0.645) Accuracy: (train=0.660, test=0.688) F1: (train=0.000, test=0.000) Precision: (train=0.000, test=0.000) Recall: (train=0.000, test=0.000) total time=   0.0s\n",
      "[CV 5/10] END C=0.1, gamma=1; AUC: (train=0.775, test=0.576) Accuracy: (train=0.663, test=0.656) F1: (train=0.000, test=0.000) Precision: (train=0.000, test=0.000) Recall: (train=0.000, test=0.000) total time=   0.0s\n",
      "[CV 6/10] END C=0.1, gamma=1; AUC: (train=0.749, test=0.801) Accuracy: (train=0.663, test=0.656) F1: (train=0.000, test=0.000) Precision: (train=0.000, test=0.000) Recall: (train=0.000, test=0.000) total time=   0.0s\n",
      "[CV 7/10] END C=0.1, gamma=1; AUC: (train=0.755, test=0.766) Accuracy: (train=0.663, test=0.656) F1: (train=0.000, test=0.000) Precision: (train=0.000, test=0.000) Recall: (train=0.000, test=0.000) total time=   0.0s\n",
      "[CV 8/10] END C=0.1, gamma=1; AUC: (train=0.740, test=0.874) Accuracy: (train=0.663, test=0.656) F1: (train=0.000, test=0.000) Precision: (train=0.000, test=0.000) Recall: (train=0.000, test=0.000) total time=   0.0s\n",
      "[CV 9/10] END C=0.1, gamma=1; AUC: (train=0.748, test=0.892) Accuracy: (train=0.663, test=0.656) F1: (train=0.000, test=0.000) Precision: (train=0.000, test=0.000) Recall: (train=0.000, test=0.000) total time=   0.0s\n",
      "[CV 10/10] END C=0.1, gamma=1; AUC: (train=0.755, test=0.753) Accuracy: (train=0.663, test=0.656) F1: (train=0.000, test=0.000) Precision: (train=0.000, test=0.000) Recall: (train=0.000, test=0.000) total time=   0.0s\n",
      "[CV 1/10] END C=0.1, gamma=0.1; AUC: (train=0.773, test=0.587) Accuracy: (train=0.662, test=0.667) F1: (train=0.000, test=0.000) Precision: (train=0.000, test=0.000) Recall: (train=0.000, test=0.000) total time=   0.0s\n",
      "[CV 2/10] END C=0.1, gamma=0.1; AUC: (train=0.763, test=0.661) Accuracy: (train=0.662, test=0.667) F1: (train=0.000, test=0.000) Precision: (train=0.000, test=0.000) Recall: (train=0.000, test=0.000) total time=   0.0s\n",
      "[CV 3/10] END C=0.1, gamma=0.1; AUC: (train=0.761, test=0.740) Accuracy: (train=0.662, test=0.667) F1: (train=0.000, test=0.000) Precision: (train=0.000, test=0.000) Recall: (train=0.000, test=0.000) total time=   0.0s\n",
      "[CV 4/10] END C=0.1, gamma=0.1; AUC: (train=0.764, test=0.645) Accuracy: (train=0.660, test=0.688) F1: (train=0.000, test=0.000) Precision: (train=0.000, test=0.000) Recall: (train=0.000, test=0.000) total time=   0.0s\n",
      "[CV 5/10] END C=0.1, gamma=0.1; AUC: (train=0.775, test=0.576) Accuracy: (train=0.663, test=0.656) F1: (train=0.000, test=0.000) Precision: (train=0.000, test=0.000) Recall: (train=0.000, test=0.000) total time=   0.0s\n",
      "[CV 6/10] END C=0.1, gamma=0.1; AUC: (train=0.749, test=0.801) Accuracy: (train=0.663, test=0.656) F1: (train=0.000, test=0.000) Precision: (train=0.000, test=0.000) Recall: (train=0.000, test=0.000) total time=   0.0s\n"
     ]
    },
    {
     "name": "stderr",
     "output_type": "stream",
     "text": [
      "/Users/anushruti/opt/anaconda3/lib/python3.9/site-packages/sklearn/metrics/_classification.py:1318: UndefinedMetricWarning: Precision is ill-defined and being set to 0.0 due to no predicted samples. Use `zero_division` parameter to control this behavior.\n",
      "  _warn_prf(average, modifier, msg_start, len(result))\n",
      "/Users/anushruti/opt/anaconda3/lib/python3.9/site-packages/sklearn/metrics/_classification.py:1318: UndefinedMetricWarning: Precision is ill-defined and being set to 0.0 due to no predicted samples. Use `zero_division` parameter to control this behavior.\n",
      "  _warn_prf(average, modifier, msg_start, len(result))\n",
      "/Users/anushruti/opt/anaconda3/lib/python3.9/site-packages/sklearn/metrics/_classification.py:1318: UndefinedMetricWarning: Precision is ill-defined and being set to 0.0 due to no predicted samples. Use `zero_division` parameter to control this behavior.\n",
      "  _warn_prf(average, modifier, msg_start, len(result))\n",
      "/Users/anushruti/opt/anaconda3/lib/python3.9/site-packages/sklearn/metrics/_classification.py:1318: UndefinedMetricWarning: Precision is ill-defined and being set to 0.0 due to no predicted samples. Use `zero_division` parameter to control this behavior.\n",
      "  _warn_prf(average, modifier, msg_start, len(result))\n",
      "/Users/anushruti/opt/anaconda3/lib/python3.9/site-packages/sklearn/metrics/_classification.py:1318: UndefinedMetricWarning: Precision is ill-defined and being set to 0.0 due to no predicted samples. Use `zero_division` parameter to control this behavior.\n",
      "  _warn_prf(average, modifier, msg_start, len(result))\n",
      "/Users/anushruti/opt/anaconda3/lib/python3.9/site-packages/sklearn/metrics/_classification.py:1318: UndefinedMetricWarning: Precision is ill-defined and being set to 0.0 due to no predicted samples. Use `zero_division` parameter to control this behavior.\n",
      "  _warn_prf(average, modifier, msg_start, len(result))\n",
      "/Users/anushruti/opt/anaconda3/lib/python3.9/site-packages/sklearn/metrics/_classification.py:1318: UndefinedMetricWarning: Precision is ill-defined and being set to 0.0 due to no predicted samples. Use `zero_division` parameter to control this behavior.\n",
      "  _warn_prf(average, modifier, msg_start, len(result))\n",
      "/Users/anushruti/opt/anaconda3/lib/python3.9/site-packages/sklearn/metrics/_classification.py:1318: UndefinedMetricWarning: Precision is ill-defined and being set to 0.0 due to no predicted samples. Use `zero_division` parameter to control this behavior.\n",
      "  _warn_prf(average, modifier, msg_start, len(result))\n",
      "/Users/anushruti/opt/anaconda3/lib/python3.9/site-packages/sklearn/metrics/_classification.py:1318: UndefinedMetricWarning: Precision is ill-defined and being set to 0.0 due to no predicted samples. Use `zero_division` parameter to control this behavior.\n",
      "  _warn_prf(average, modifier, msg_start, len(result))\n",
      "/Users/anushruti/opt/anaconda3/lib/python3.9/site-packages/sklearn/metrics/_classification.py:1318: UndefinedMetricWarning: Precision is ill-defined and being set to 0.0 due to no predicted samples. Use `zero_division` parameter to control this behavior.\n",
      "  _warn_prf(average, modifier, msg_start, len(result))\n",
      "/Users/anushruti/opt/anaconda3/lib/python3.9/site-packages/sklearn/metrics/_classification.py:1318: UndefinedMetricWarning: Precision is ill-defined and being set to 0.0 due to no predicted samples. Use `zero_division` parameter to control this behavior.\n",
      "  _warn_prf(average, modifier, msg_start, len(result))\n",
      "/Users/anushruti/opt/anaconda3/lib/python3.9/site-packages/sklearn/metrics/_classification.py:1318: UndefinedMetricWarning: Precision is ill-defined and being set to 0.0 due to no predicted samples. Use `zero_division` parameter to control this behavior.\n",
      "  _warn_prf(average, modifier, msg_start, len(result))\n",
      "/Users/anushruti/opt/anaconda3/lib/python3.9/site-packages/sklearn/metrics/_classification.py:1318: UndefinedMetricWarning: Precision is ill-defined and being set to 0.0 due to no predicted samples. Use `zero_division` parameter to control this behavior.\n",
      "  _warn_prf(average, modifier, msg_start, len(result))\n",
      "/Users/anushruti/opt/anaconda3/lib/python3.9/site-packages/sklearn/metrics/_classification.py:1318: UndefinedMetricWarning: Precision is ill-defined and being set to 0.0 due to no predicted samples. Use `zero_division` parameter to control this behavior.\n",
      "  _warn_prf(average, modifier, msg_start, len(result))\n",
      "/Users/anushruti/opt/anaconda3/lib/python3.9/site-packages/sklearn/metrics/_classification.py:1318: UndefinedMetricWarning: Precision is ill-defined and being set to 0.0 due to no predicted samples. Use `zero_division` parameter to control this behavior.\n",
      "  _warn_prf(average, modifier, msg_start, len(result))\n",
      "/Users/anushruti/opt/anaconda3/lib/python3.9/site-packages/sklearn/metrics/_classification.py:1318: UndefinedMetricWarning: Precision is ill-defined and being set to 0.0 due to no predicted samples. Use `zero_division` parameter to control this behavior.\n",
      "  _warn_prf(average, modifier, msg_start, len(result))\n",
      "/Users/anushruti/opt/anaconda3/lib/python3.9/site-packages/sklearn/metrics/_classification.py:1318: UndefinedMetricWarning: Precision is ill-defined and being set to 0.0 due to no predicted samples. Use `zero_division` parameter to control this behavior.\n",
      "  _warn_prf(average, modifier, msg_start, len(result))\n",
      "/Users/anushruti/opt/anaconda3/lib/python3.9/site-packages/sklearn/metrics/_classification.py:1318: UndefinedMetricWarning: Precision is ill-defined and being set to 0.0 due to no predicted samples. Use `zero_division` parameter to control this behavior.\n",
      "  _warn_prf(average, modifier, msg_start, len(result))\n",
      "/Users/anushruti/opt/anaconda3/lib/python3.9/site-packages/sklearn/metrics/_classification.py:1318: UndefinedMetricWarning: Precision is ill-defined and being set to 0.0 due to no predicted samples. Use `zero_division` parameter to control this behavior.\n",
      "  _warn_prf(average, modifier, msg_start, len(result))\n",
      "/Users/anushruti/opt/anaconda3/lib/python3.9/site-packages/sklearn/metrics/_classification.py:1318: UndefinedMetricWarning: Precision is ill-defined and being set to 0.0 due to no predicted samples. Use `zero_division` parameter to control this behavior.\n",
      "  _warn_prf(average, modifier, msg_start, len(result))\n",
      "/Users/anushruti/opt/anaconda3/lib/python3.9/site-packages/sklearn/metrics/_classification.py:1318: UndefinedMetricWarning: Precision is ill-defined and being set to 0.0 due to no predicted samples. Use `zero_division` parameter to control this behavior.\n",
      "  _warn_prf(average, modifier, msg_start, len(result))\n",
      "/Users/anushruti/opt/anaconda3/lib/python3.9/site-packages/sklearn/metrics/_classification.py:1318: UndefinedMetricWarning: Precision is ill-defined and being set to 0.0 due to no predicted samples. Use `zero_division` parameter to control this behavior.\n",
      "  _warn_prf(average, modifier, msg_start, len(result))\n",
      "/Users/anushruti/opt/anaconda3/lib/python3.9/site-packages/sklearn/metrics/_classification.py:1318: UndefinedMetricWarning: Precision is ill-defined and being set to 0.0 due to no predicted samples. Use `zero_division` parameter to control this behavior.\n",
      "  _warn_prf(average, modifier, msg_start, len(result))\n",
      "/Users/anushruti/opt/anaconda3/lib/python3.9/site-packages/sklearn/metrics/_classification.py:1318: UndefinedMetricWarning: Precision is ill-defined and being set to 0.0 due to no predicted samples. Use `zero_division` parameter to control this behavior.\n",
      "  _warn_prf(average, modifier, msg_start, len(result))\n",
      "/Users/anushruti/opt/anaconda3/lib/python3.9/site-packages/sklearn/metrics/_classification.py:1318: UndefinedMetricWarning: Precision is ill-defined and being set to 0.0 due to no predicted samples. Use `zero_division` parameter to control this behavior.\n",
      "  _warn_prf(average, modifier, msg_start, len(result))\n",
      "/Users/anushruti/opt/anaconda3/lib/python3.9/site-packages/sklearn/metrics/_classification.py:1318: UndefinedMetricWarning: Precision is ill-defined and being set to 0.0 due to no predicted samples. Use `zero_division` parameter to control this behavior.\n",
      "  _warn_prf(average, modifier, msg_start, len(result))\n",
      "/Users/anushruti/opt/anaconda3/lib/python3.9/site-packages/sklearn/metrics/_classification.py:1318: UndefinedMetricWarning: Precision is ill-defined and being set to 0.0 due to no predicted samples. Use `zero_division` parameter to control this behavior.\n",
      "  _warn_prf(average, modifier, msg_start, len(result))\n",
      "/Users/anushruti/opt/anaconda3/lib/python3.9/site-packages/sklearn/metrics/_classification.py:1318: UndefinedMetricWarning: Precision is ill-defined and being set to 0.0 due to no predicted samples. Use `zero_division` parameter to control this behavior.\n",
      "  _warn_prf(average, modifier, msg_start, len(result))\n",
      "/Users/anushruti/opt/anaconda3/lib/python3.9/site-packages/sklearn/metrics/_classification.py:1318: UndefinedMetricWarning: Precision is ill-defined and being set to 0.0 due to no predicted samples. Use `zero_division` parameter to control this behavior.\n",
      "  _warn_prf(average, modifier, msg_start, len(result))\n",
      "/Users/anushruti/opt/anaconda3/lib/python3.9/site-packages/sklearn/metrics/_classification.py:1318: UndefinedMetricWarning: Precision is ill-defined and being set to 0.0 due to no predicted samples. Use `zero_division` parameter to control this behavior.\n",
      "  _warn_prf(average, modifier, msg_start, len(result))\n",
      "/Users/anushruti/opt/anaconda3/lib/python3.9/site-packages/sklearn/metrics/_classification.py:1318: UndefinedMetricWarning: Precision is ill-defined and being set to 0.0 due to no predicted samples. Use `zero_division` parameter to control this behavior.\n",
      "  _warn_prf(average, modifier, msg_start, len(result))\n",
      "/Users/anushruti/opt/anaconda3/lib/python3.9/site-packages/sklearn/metrics/_classification.py:1318: UndefinedMetricWarning: Precision is ill-defined and being set to 0.0 due to no predicted samples. Use `zero_division` parameter to control this behavior.\n",
      "  _warn_prf(average, modifier, msg_start, len(result))\n",
      "/Users/anushruti/opt/anaconda3/lib/python3.9/site-packages/sklearn/metrics/_classification.py:1318: UndefinedMetricWarning: Precision is ill-defined and being set to 0.0 due to no predicted samples. Use `zero_division` parameter to control this behavior.\n",
      "  _warn_prf(average, modifier, msg_start, len(result))\n",
      "/Users/anushruti/opt/anaconda3/lib/python3.9/site-packages/sklearn/metrics/_classification.py:1318: UndefinedMetricWarning: Precision is ill-defined and being set to 0.0 due to no predicted samples. Use `zero_division` parameter to control this behavior.\n",
      "  _warn_prf(average, modifier, msg_start, len(result))\n",
      "/Users/anushruti/opt/anaconda3/lib/python3.9/site-packages/sklearn/metrics/_classification.py:1318: UndefinedMetricWarning: Precision is ill-defined and being set to 0.0 due to no predicted samples. Use `zero_division` parameter to control this behavior.\n",
      "  _warn_prf(average, modifier, msg_start, len(result))\n",
      "/Users/anushruti/opt/anaconda3/lib/python3.9/site-packages/sklearn/metrics/_classification.py:1318: UndefinedMetricWarning: Precision is ill-defined and being set to 0.0 due to no predicted samples. Use `zero_division` parameter to control this behavior.\n",
      "  _warn_prf(average, modifier, msg_start, len(result))\n",
      "/Users/anushruti/opt/anaconda3/lib/python3.9/site-packages/sklearn/metrics/_classification.py:1318: UndefinedMetricWarning: Precision is ill-defined and being set to 0.0 due to no predicted samples. Use `zero_division` parameter to control this behavior.\n",
      "  _warn_prf(average, modifier, msg_start, len(result))\n",
      "/Users/anushruti/opt/anaconda3/lib/python3.9/site-packages/sklearn/metrics/_classification.py:1318: UndefinedMetricWarning: Precision is ill-defined and being set to 0.0 due to no predicted samples. Use `zero_division` parameter to control this behavior.\n",
      "  _warn_prf(average, modifier, msg_start, len(result))\n"
     ]
    },
    {
     "name": "stdout",
     "output_type": "stream",
     "text": [
      "[CV 7/10] END C=0.1, gamma=0.1; AUC: (train=0.755, test=0.766) Accuracy: (train=0.663, test=0.656) F1: (train=0.000, test=0.000) Precision: (train=0.000, test=0.000) Recall: (train=0.000, test=0.000) total time=   0.0s\n",
      "[CV 8/10] END C=0.1, gamma=0.1; AUC: (train=0.740, test=0.874) Accuracy: (train=0.663, test=0.656) F1: (train=0.000, test=0.000) Precision: (train=0.000, test=0.000) Recall: (train=0.000, test=0.000) total time=   0.0s\n",
      "[CV 9/10] END C=0.1, gamma=0.1; AUC: (train=0.748, test=0.892) Accuracy: (train=0.663, test=0.656) F1: (train=0.000, test=0.000) Precision: (train=0.000, test=0.000) Recall: (train=0.000, test=0.000) total time=   0.0s\n",
      "[CV 10/10] END C=0.1, gamma=0.1; AUC: (train=0.755, test=0.753) Accuracy: (train=0.663, test=0.656) F1: (train=0.000, test=0.000) Precision: (train=0.000, test=0.000) Recall: (train=0.000, test=0.000) total time=   0.0s\n",
      "[CV 1/10] END C=0.1, gamma=10; AUC: (train=0.773, test=0.587) Accuracy: (train=0.662, test=0.667) F1: (train=0.000, test=0.000) Precision: (train=0.000, test=0.000) Recall: (train=0.000, test=0.000) total time=   0.0s\n",
      "[CV 2/10] END C=0.1, gamma=10; AUC: (train=0.763, test=0.661) Accuracy: (train=0.662, test=0.667) F1: (train=0.000, test=0.000) Precision: (train=0.000, test=0.000) Recall: (train=0.000, test=0.000) total time=   0.0s\n",
      "[CV 3/10] END C=0.1, gamma=10; AUC: (train=0.761, test=0.740) Accuracy: (train=0.662, test=0.667) F1: (train=0.000, test=0.000) Precision: (train=0.000, test=0.000) Recall: (train=0.000, test=0.000) total time=   0.0s\n",
      "[CV 4/10] END C=0.1, gamma=10; AUC: (train=0.764, test=0.645) Accuracy: (train=0.660, test=0.688) F1: (train=0.000, test=0.000) Precision: (train=0.000, test=0.000) Recall: (train=0.000, test=0.000) total time=   0.0s\n",
      "[CV 5/10] END C=0.1, gamma=10; AUC: (train=0.775, test=0.576) Accuracy: (train=0.663, test=0.656) F1: (train=0.000, test=0.000) Precision: (train=0.000, test=0.000) Recall: (train=0.000, test=0.000) total time=   0.0s\n",
      "[CV 6/10] END C=0.1, gamma=10; AUC: (train=0.749, test=0.801) Accuracy: (train=0.663, test=0.656) F1: (train=0.000, test=0.000) Precision: (train=0.000, test=0.000) Recall: (train=0.000, test=0.000) total time=   0.0s\n",
      "[CV 7/10] END C=0.1, gamma=10; AUC: (train=0.755, test=0.766) Accuracy: (train=0.663, test=0.656) F1: (train=0.000, test=0.000) Precision: (train=0.000, test=0.000) Recall: (train=0.000, test=0.000) total time=   0.0s\n",
      "[CV 8/10] END C=0.1, gamma=10; AUC: (train=0.740, test=0.874) Accuracy: (train=0.663, test=0.656) F1: (train=0.000, test=0.000) Precision: (train=0.000, test=0.000) Recall: (train=0.000, test=0.000) total time=   0.0s\n",
      "[CV 9/10] END C=0.1, gamma=10; AUC: (train=0.748, test=0.892) Accuracy: (train=0.663, test=0.656) F1: (train=0.000, test=0.000) Precision: (train=0.000, test=0.000) Recall: (train=0.000, test=0.000) total time=   0.0s\n",
      "[CV 10/10] END C=0.1, gamma=10; AUC: (train=0.755, test=0.753) Accuracy: (train=0.663, test=0.656) F1: (train=0.000, test=0.000) Precision: (train=0.000, test=0.000) Recall: (train=0.000, test=0.000) total time=   0.0s\n",
      "[CV 1/10] END C=1, gamma=1; AUC: (train=0.774, test=0.558) Accuracy: (train=0.731, test=0.606) F1: (train=0.524, test=0.235) Precision: (train=0.652, test=0.333) Recall: (train=0.439, test=0.182) total time=   0.0s\n",
      "[CV 2/10] END C=1, gamma=1; AUC: (train=0.765, test=0.653) Accuracy: (train=0.714, test=0.788) F1: (train=0.443, test=0.588) Precision: (train=0.647, test=0.833) Recall: (train=0.337, test=0.455) total time=   0.0s\n",
      "[CV 3/10] END C=1, gamma=1; AUC: (train=0.762, test=0.719) Accuracy: (train=0.734, test=0.667) F1: (train=0.476, test=0.267) Precision: (train=0.714, test=0.500) Recall: (train=0.357, test=0.182) total time=   0.0s\n",
      "[CV 4/10] END C=1, gamma=1; AUC: (train=0.767, test=0.623) Accuracy: (train=0.732, test=0.719) F1: (train=0.480, test=0.471) Precision: (train=0.706, test=0.571) Recall: (train=0.364, test=0.400) total time=   0.0s\n",
      "[CV 5/10] END C=1, gamma=1; AUC: (train=0.775, test=0.584) Accuracy: (train=0.746, test=0.531) F1: (train=0.554, test=0.286) Precision: (train=0.676, test=0.300) Recall: (train=0.469, test=0.273) total time=   0.0s\n",
      "[CV 6/10] END C=1, gamma=1; AUC: (train=0.750, test=0.805) Accuracy: (train=0.711, test=0.781) F1: (train=0.391, test=0.588) Precision: (train=0.675, test=0.833) Recall: (train=0.276, test=0.455) total time=   0.0s\n",
      "[CV 7/10] END C=1, gamma=1; AUC: (train=0.755, test=0.771) Accuracy: (train=0.732, test=0.688) F1: (train=0.494, test=0.375) Precision: (train=0.679, test=0.600) Recall: (train=0.388, test=0.273) total time=   0.0s\n",
      "[CV 8/10] END C=1, gamma=1; AUC: (train=0.740, test=0.879) Accuracy: (train=0.715, test=0.719) F1: (train=0.325, test=0.400) Precision: (train=0.800, test=0.750) Recall: (train=0.204, test=0.273) total time=   0.0s\n"
     ]
    },
    {
     "name": "stderr",
     "output_type": "stream",
     "text": [
      "/Users/anushruti/opt/anaconda3/lib/python3.9/site-packages/sklearn/metrics/_classification.py:1318: UndefinedMetricWarning: Precision is ill-defined and being set to 0.0 due to no predicted samples. Use `zero_division` parameter to control this behavior.\n",
      "  _warn_prf(average, modifier, msg_start, len(result))\n",
      "/Users/anushruti/opt/anaconda3/lib/python3.9/site-packages/sklearn/metrics/_classification.py:1318: UndefinedMetricWarning: Precision is ill-defined and being set to 0.0 due to no predicted samples. Use `zero_division` parameter to control this behavior.\n",
      "  _warn_prf(average, modifier, msg_start, len(result))\n",
      "/Users/anushruti/opt/anaconda3/lib/python3.9/site-packages/sklearn/metrics/_classification.py:1318: UndefinedMetricWarning: Precision is ill-defined and being set to 0.0 due to no predicted samples. Use `zero_division` parameter to control this behavior.\n",
      "  _warn_prf(average, modifier, msg_start, len(result))\n",
      "/Users/anushruti/opt/anaconda3/lib/python3.9/site-packages/sklearn/metrics/_classification.py:1318: UndefinedMetricWarning: Precision is ill-defined and being set to 0.0 due to no predicted samples. Use `zero_division` parameter to control this behavior.\n",
      "  _warn_prf(average, modifier, msg_start, len(result))\n",
      "/Users/anushruti/opt/anaconda3/lib/python3.9/site-packages/sklearn/metrics/_classification.py:1318: UndefinedMetricWarning: Precision is ill-defined and being set to 0.0 due to no predicted samples. Use `zero_division` parameter to control this behavior.\n",
      "  _warn_prf(average, modifier, msg_start, len(result))\n",
      "/Users/anushruti/opt/anaconda3/lib/python3.9/site-packages/sklearn/metrics/_classification.py:1318: UndefinedMetricWarning: Precision is ill-defined and being set to 0.0 due to no predicted samples. Use `zero_division` parameter to control this behavior.\n",
      "  _warn_prf(average, modifier, msg_start, len(result))\n",
      "/Users/anushruti/opt/anaconda3/lib/python3.9/site-packages/sklearn/metrics/_classification.py:1318: UndefinedMetricWarning: Precision is ill-defined and being set to 0.0 due to no predicted samples. Use `zero_division` parameter to control this behavior.\n",
      "  _warn_prf(average, modifier, msg_start, len(result))\n",
      "/Users/anushruti/opt/anaconda3/lib/python3.9/site-packages/sklearn/metrics/_classification.py:1318: UndefinedMetricWarning: Precision is ill-defined and being set to 0.0 due to no predicted samples. Use `zero_division` parameter to control this behavior.\n",
      "  _warn_prf(average, modifier, msg_start, len(result))\n",
      "/Users/anushruti/opt/anaconda3/lib/python3.9/site-packages/sklearn/metrics/_classification.py:1318: UndefinedMetricWarning: Precision is ill-defined and being set to 0.0 due to no predicted samples. Use `zero_division` parameter to control this behavior.\n",
      "  _warn_prf(average, modifier, msg_start, len(result))\n",
      "/Users/anushruti/opt/anaconda3/lib/python3.9/site-packages/sklearn/metrics/_classification.py:1318: UndefinedMetricWarning: Precision is ill-defined and being set to 0.0 due to no predicted samples. Use `zero_division` parameter to control this behavior.\n",
      "  _warn_prf(average, modifier, msg_start, len(result))\n",
      "/Users/anushruti/opt/anaconda3/lib/python3.9/site-packages/sklearn/metrics/_classification.py:1318: UndefinedMetricWarning: Precision is ill-defined and being set to 0.0 due to no predicted samples. Use `zero_division` parameter to control this behavior.\n",
      "  _warn_prf(average, modifier, msg_start, len(result))\n",
      "/Users/anushruti/opt/anaconda3/lib/python3.9/site-packages/sklearn/metrics/_classification.py:1318: UndefinedMetricWarning: Precision is ill-defined and being set to 0.0 due to no predicted samples. Use `zero_division` parameter to control this behavior.\n",
      "  _warn_prf(average, modifier, msg_start, len(result))\n",
      "/Users/anushruti/opt/anaconda3/lib/python3.9/site-packages/sklearn/metrics/_classification.py:1318: UndefinedMetricWarning: Precision is ill-defined and being set to 0.0 due to no predicted samples. Use `zero_division` parameter to control this behavior.\n",
      "  _warn_prf(average, modifier, msg_start, len(result))\n",
      "/Users/anushruti/opt/anaconda3/lib/python3.9/site-packages/sklearn/metrics/_classification.py:1318: UndefinedMetricWarning: Precision is ill-defined and being set to 0.0 due to no predicted samples. Use `zero_division` parameter to control this behavior.\n",
      "  _warn_prf(average, modifier, msg_start, len(result))\n",
      "/Users/anushruti/opt/anaconda3/lib/python3.9/site-packages/sklearn/metrics/_classification.py:1318: UndefinedMetricWarning: Precision is ill-defined and being set to 0.0 due to no predicted samples. Use `zero_division` parameter to control this behavior.\n",
      "  _warn_prf(average, modifier, msg_start, len(result))\n",
      "/Users/anushruti/opt/anaconda3/lib/python3.9/site-packages/sklearn/metrics/_classification.py:1318: UndefinedMetricWarning: Precision is ill-defined and being set to 0.0 due to no predicted samples. Use `zero_division` parameter to control this behavior.\n",
      "  _warn_prf(average, modifier, msg_start, len(result))\n",
      "/Users/anushruti/opt/anaconda3/lib/python3.9/site-packages/sklearn/metrics/_classification.py:1318: UndefinedMetricWarning: Precision is ill-defined and being set to 0.0 due to no predicted samples. Use `zero_division` parameter to control this behavior.\n",
      "  _warn_prf(average, modifier, msg_start, len(result))\n",
      "/Users/anushruti/opt/anaconda3/lib/python3.9/site-packages/sklearn/metrics/_classification.py:1318: UndefinedMetricWarning: Precision is ill-defined and being set to 0.0 due to no predicted samples. Use `zero_division` parameter to control this behavior.\n",
      "  _warn_prf(average, modifier, msg_start, len(result))\n",
      "/Users/anushruti/opt/anaconda3/lib/python3.9/site-packages/sklearn/metrics/_classification.py:1318: UndefinedMetricWarning: Precision is ill-defined and being set to 0.0 due to no predicted samples. Use `zero_division` parameter to control this behavior.\n",
      "  _warn_prf(average, modifier, msg_start, len(result))\n",
      "/Users/anushruti/opt/anaconda3/lib/python3.9/site-packages/sklearn/metrics/_classification.py:1318: UndefinedMetricWarning: Precision is ill-defined and being set to 0.0 due to no predicted samples. Use `zero_division` parameter to control this behavior.\n",
      "  _warn_prf(average, modifier, msg_start, len(result))\n",
      "/Users/anushruti/opt/anaconda3/lib/python3.9/site-packages/sklearn/metrics/_classification.py:1318: UndefinedMetricWarning: Precision is ill-defined and being set to 0.0 due to no predicted samples. Use `zero_division` parameter to control this behavior.\n",
      "  _warn_prf(average, modifier, msg_start, len(result))\n",
      "/Users/anushruti/opt/anaconda3/lib/python3.9/site-packages/sklearn/metrics/_classification.py:1318: UndefinedMetricWarning: Precision is ill-defined and being set to 0.0 due to no predicted samples. Use `zero_division` parameter to control this behavior.\n",
      "  _warn_prf(average, modifier, msg_start, len(result))\n"
     ]
    },
    {
     "name": "stdout",
     "output_type": "stream",
     "text": [
      "[CV 9/10] END C=1, gamma=1; AUC: (train=0.748, test=0.883) Accuracy: (train=0.711, test=0.688) F1: (train=0.354, test=0.286) Precision: (train=0.719, test=0.667) Recall: (train=0.235, test=0.182) total time=   0.0s\n",
      "[CV 10/10] END C=1, gamma=1; AUC: (train=0.757, test=0.766) Accuracy: (train=0.718, test=0.719) F1: (train=0.423, test=0.526) Precision: (train=0.682, test=0.625) Recall: (train=0.306, test=0.455) total time=   0.0s\n",
      "[CV 1/10] END C=1, gamma=0.1; AUC: (train=0.774, test=0.558) Accuracy: (train=0.731, test=0.606) F1: (train=0.524, test=0.235) Precision: (train=0.652, test=0.333) Recall: (train=0.439, test=0.182) total time=   0.0s\n",
      "[CV 2/10] END C=1, gamma=0.1; AUC: (train=0.765, test=0.653) Accuracy: (train=0.714, test=0.788) F1: (train=0.443, test=0.588) Precision: (train=0.647, test=0.833) Recall: (train=0.337, test=0.455) total time=   0.0s\n",
      "[CV 3/10] END C=1, gamma=0.1; AUC: (train=0.762, test=0.719) Accuracy: (train=0.734, test=0.667) F1: (train=0.476, test=0.267) Precision: (train=0.714, test=0.500) Recall: (train=0.357, test=0.182) total time=   0.0s\n",
      "[CV 4/10] END C=1, gamma=0.1; AUC: (train=0.767, test=0.623) Accuracy: (train=0.732, test=0.719) F1: (train=0.480, test=0.471) Precision: (train=0.706, test=0.571) Recall: (train=0.364, test=0.400) total time=   0.0s\n",
      "[CV 5/10] END C=1, gamma=0.1; AUC: (train=0.775, test=0.584) Accuracy: (train=0.746, test=0.531) F1: (train=0.554, test=0.286) Precision: (train=0.676, test=0.300) Recall: (train=0.469, test=0.273) total time=   0.0s\n",
      "[CV 6/10] END C=1, gamma=0.1; AUC: (train=0.750, test=0.805) Accuracy: (train=0.711, test=0.781) F1: (train=0.391, test=0.588) Precision: (train=0.675, test=0.833) Recall: (train=0.276, test=0.455) total time=   0.0s\n",
      "[CV 7/10] END C=1, gamma=0.1; AUC: (train=0.755, test=0.771) Accuracy: (train=0.732, test=0.688) F1: (train=0.494, test=0.375) Precision: (train=0.679, test=0.600) Recall: (train=0.388, test=0.273) total time=   0.0s\n",
      "[CV 8/10] END C=1, gamma=0.1; AUC: (train=0.740, test=0.879) Accuracy: (train=0.715, test=0.719) F1: (train=0.325, test=0.400) Precision: (train=0.800, test=0.750) Recall: (train=0.204, test=0.273) total time=   0.0s\n",
      "[CV 9/10] END C=1, gamma=0.1; AUC: (train=0.748, test=0.883) Accuracy: (train=0.711, test=0.688) F1: (train=0.354, test=0.286) Precision: (train=0.719, test=0.667) Recall: (train=0.235, test=0.182) total time=   0.0s\n",
      "[CV 10/10] END C=1, gamma=0.1; AUC: (train=0.757, test=0.766) Accuracy: (train=0.718, test=0.719) F1: (train=0.423, test=0.526) Precision: (train=0.682, test=0.625) Recall: (train=0.306, test=0.455) total time=   0.0s\n",
      "[CV 1/10] END C=1, gamma=10; AUC: (train=0.774, test=0.558) Accuracy: (train=0.731, test=0.606) F1: (train=0.524, test=0.235) Precision: (train=0.652, test=0.333) Recall: (train=0.439, test=0.182) total time=   0.0s\n",
      "[CV 2/10] END C=1, gamma=10; AUC: (train=0.765, test=0.653) Accuracy: (train=0.714, test=0.788) F1: (train=0.443, test=0.588) Precision: (train=0.647, test=0.833) Recall: (train=0.337, test=0.455) total time=   0.0s\n",
      "[CV 3/10] END C=1, gamma=10; AUC: (train=0.762, test=0.719) Accuracy: (train=0.734, test=0.667) F1: (train=0.476, test=0.267) Precision: (train=0.714, test=0.500) Recall: (train=0.357, test=0.182) total time=   0.0s\n",
      "[CV 4/10] END C=1, gamma=10; AUC: (train=0.767, test=0.623) Accuracy: (train=0.732, test=0.719) F1: (train=0.480, test=0.471) Precision: (train=0.706, test=0.571) Recall: (train=0.364, test=0.400) total time=   0.0s\n",
      "[CV 5/10] END C=1, gamma=10; AUC: (train=0.775, test=0.584) Accuracy: (train=0.746, test=0.531) F1: (train=0.554, test=0.286) Precision: (train=0.676, test=0.300) Recall: (train=0.469, test=0.273) total time=   0.0s\n",
      "[CV 6/10] END C=1, gamma=10; AUC: (train=0.750, test=0.805) Accuracy: (train=0.711, test=0.781) F1: (train=0.391, test=0.588) Precision: (train=0.675, test=0.833) Recall: (train=0.276, test=0.455) total time=   0.0s\n",
      "[CV 7/10] END C=1, gamma=10; AUC: (train=0.755, test=0.771) Accuracy: (train=0.732, test=0.688) F1: (train=0.494, test=0.375) Precision: (train=0.679, test=0.600) Recall: (train=0.388, test=0.273) total time=   0.0s\n",
      "[CV 8/10] END C=1, gamma=10; AUC: (train=0.740, test=0.879) Accuracy: (train=0.715, test=0.719) F1: (train=0.325, test=0.400) Precision: (train=0.800, test=0.750) Recall: (train=0.204, test=0.273) total time=   0.0s\n",
      "[CV 9/10] END C=1, gamma=10; AUC: (train=0.748, test=0.883) Accuracy: (train=0.711, test=0.688) F1: (train=0.354, test=0.286) Precision: (train=0.719, test=0.667) Recall: (train=0.235, test=0.182) total time=   0.0s\n",
      "[CV 10/10] END C=1, gamma=10; AUC: (train=0.757, test=0.766) Accuracy: (train=0.718, test=0.719) F1: (train=0.423, test=0.526) Precision: (train=0.682, test=0.625) Recall: (train=0.306, test=0.455) total time=   0.0s\n",
      "[CV 1/10] END C=10, gamma=1; AUC: (train=0.779, test=0.550) Accuracy: (train=0.731, test=0.576) F1: (train=0.541, test=0.125) Precision: (train=0.639, test=0.200) Recall: (train=0.469, test=0.091) total time=   0.0s\n",
      "[CV 2/10] END C=10, gamma=1; AUC: (train=0.767, test=0.649) Accuracy: (train=0.724, test=0.758) F1: (train=0.535, test=0.556) Precision: (train=0.622, test=0.714) Recall: (train=0.469, test=0.455) total time=   0.0s\n",
      "[CV 3/10] END C=10, gamma=1; AUC: (train=0.768, test=0.723) Accuracy: (train=0.731, test=0.758) F1: (train=0.530, test=0.556) Precision: (train=0.647, test=0.714) Recall: (train=0.449, test=0.455) total time=   0.0s\n",
      "[CV 4/10] END C=10, gamma=1; AUC: (train=0.775, test=0.632) Accuracy: (train=0.746, test=0.656) F1: (train=0.554, test=0.421) Precision: (train=0.687, test=0.444) Recall: (train=0.465, test=0.400) total time=   0.0s\n",
      "[CV 5/10] END C=10, gamma=1; AUC: (train=0.779, test=0.623) Accuracy: (train=0.739, test=0.562) F1: (train=0.558, test=0.364) Precision: (train=0.649, test=0.364) Recall: (train=0.490, test=0.364) total time=   0.0s\n",
      "[CV 6/10] END C=10, gamma=1; AUC: (train=0.756, test=0.818) Accuracy: (train=0.732, test=0.719) F1: (train=0.552, test=0.609) Precision: (train=0.632, test=0.583) Recall: (train=0.490, test=0.636) total time=   0.0s\n",
      "[CV 7/10] END C=10, gamma=1; AUC: (train=0.757, test=0.788) Accuracy: (train=0.735, test=0.656) F1: (train=0.550, test=0.421) Precision: (train=0.644, test=0.500) Recall: (train=0.480, test=0.364) total time=   0.0s\n",
      "[CV 8/10] END C=10, gamma=1; AUC: (train=0.744, test=0.866) Accuracy: (train=0.715, test=0.781) F1: (train=0.484, test=0.588) Precision: (train=0.619, test=0.833) Recall: (train=0.398, test=0.455) total time=   0.0s\n",
      "[CV 9/10] END C=10, gamma=1; AUC: (train=0.751, test=0.861) Accuracy: (train=0.718, test=0.812) F1: (train=0.506, test=0.667) Precision: (train=0.618, test=0.857) Recall: (train=0.429, test=0.545) total time=   0.0s\n",
      "[CV 10/10] END C=10, gamma=1; AUC: (train=0.759, test=0.766) Accuracy: (train=0.729, test=0.781) F1: (train=0.521, test=0.667) Precision: (train=0.642, test=0.700) Recall: (train=0.439, test=0.636) total time=   0.0s\n",
      "[CV 1/10] END C=10, gamma=0.1; AUC: (train=0.779, test=0.550) Accuracy: (train=0.731, test=0.576) F1: (train=0.541, test=0.125) Precision: (train=0.639, test=0.200) Recall: (train=0.469, test=0.091) total time=   0.0s\n",
      "[CV 2/10] END C=10, gamma=0.1; AUC: (train=0.767, test=0.649) Accuracy: (train=0.724, test=0.758) F1: (train=0.535, test=0.556) Precision: (train=0.622, test=0.714) Recall: (train=0.469, test=0.455) total time=   0.0s\n",
      "[CV 3/10] END C=10, gamma=0.1; AUC: (train=0.768, test=0.723) Accuracy: (train=0.731, test=0.758) F1: (train=0.530, test=0.556) Precision: (train=0.647, test=0.714) Recall: (train=0.449, test=0.455) total time=   0.0s\n",
      "[CV 4/10] END C=10, gamma=0.1; AUC: (train=0.775, test=0.632) Accuracy: (train=0.746, test=0.656) F1: (train=0.554, test=0.421) Precision: (train=0.687, test=0.444) Recall: (train=0.465, test=0.400) total time=   0.0s\n",
      "[CV 5/10] END C=10, gamma=0.1; AUC: (train=0.779, test=0.623) Accuracy: (train=0.739, test=0.562) F1: (train=0.558, test=0.364) Precision: (train=0.649, test=0.364) Recall: (train=0.490, test=0.364) total time=   0.0s\n",
      "[CV 6/10] END C=10, gamma=0.1; AUC: (train=0.756, test=0.818) Accuracy: (train=0.732, test=0.719) F1: (train=0.552, test=0.609) Precision: (train=0.632, test=0.583) Recall: (train=0.490, test=0.636) total time=   0.0s\n",
      "[CV 7/10] END C=10, gamma=0.1; AUC: (train=0.757, test=0.788) Accuracy: (train=0.735, test=0.656) F1: (train=0.550, test=0.421) Precision: (train=0.644, test=0.500) Recall: (train=0.480, test=0.364) total time=   0.0s\n",
      "[CV 8/10] END C=10, gamma=0.1; AUC: (train=0.744, test=0.866) Accuracy: (train=0.715, test=0.781) F1: (train=0.484, test=0.588) Precision: (train=0.619, test=0.833) Recall: (train=0.398, test=0.455) total time=   0.0s\n",
      "[CV 9/10] END C=10, gamma=0.1; AUC: (train=0.751, test=0.861) Accuracy: (train=0.718, test=0.812) F1: (train=0.506, test=0.667) Precision: (train=0.618, test=0.857) Recall: (train=0.429, test=0.545) total time=   0.0s\n",
      "[CV 10/10] END C=10, gamma=0.1; AUC: (train=0.759, test=0.766) Accuracy: (train=0.729, test=0.781) F1: (train=0.521, test=0.667) Precision: (train=0.642, test=0.700) Recall: (train=0.439, test=0.636) total time=   0.0s\n",
      "[CV 1/10] END C=10, gamma=10; AUC: (train=0.779, test=0.550) Accuracy: (train=0.731, test=0.576) F1: (train=0.541, test=0.125) Precision: (train=0.639, test=0.200) Recall: (train=0.469, test=0.091) total time=   0.0s\n",
      "[CV 2/10] END C=10, gamma=10; AUC: (train=0.767, test=0.649) Accuracy: (train=0.724, test=0.758) F1: (train=0.535, test=0.556) Precision: (train=0.622, test=0.714) Recall: (train=0.469, test=0.455) total time=   0.0s\n",
      "[CV 3/10] END C=10, gamma=10; AUC: (train=0.768, test=0.723) Accuracy: (train=0.731, test=0.758) F1: (train=0.530, test=0.556) Precision: (train=0.647, test=0.714) Recall: (train=0.449, test=0.455) total time=   0.0s\n",
      "[CV 4/10] END C=10, gamma=10; AUC: (train=0.775, test=0.632) Accuracy: (train=0.746, test=0.656) F1: (train=0.554, test=0.421) Precision: (train=0.687, test=0.444) Recall: (train=0.465, test=0.400) total time=   0.0s\n",
      "[CV 5/10] END C=10, gamma=10; AUC: (train=0.779, test=0.623) Accuracy: (train=0.739, test=0.562) F1: (train=0.558, test=0.364) Precision: (train=0.649, test=0.364) Recall: (train=0.490, test=0.364) total time=   0.0s\n",
      "[CV 6/10] END C=10, gamma=10; AUC: (train=0.756, test=0.818) Accuracy: (train=0.732, test=0.719) F1: (train=0.552, test=0.609) Precision: (train=0.632, test=0.583) Recall: (train=0.490, test=0.636) total time=   0.0s\n",
      "[CV 7/10] END C=10, gamma=10; AUC: (train=0.757, test=0.788) Accuracy: (train=0.735, test=0.656) F1: (train=0.550, test=0.421) Precision: (train=0.644, test=0.500) Recall: (train=0.480, test=0.364) total time=   0.0s\n",
      "[CV 8/10] END C=10, gamma=10; AUC: (train=0.744, test=0.866) Accuracy: (train=0.715, test=0.781) F1: (train=0.484, test=0.588) Precision: (train=0.619, test=0.833) Recall: (train=0.398, test=0.455) total time=   0.0s\n",
      "[CV 9/10] END C=10, gamma=10; AUC: (train=0.751, test=0.861) Accuracy: (train=0.718, test=0.812) F1: (train=0.506, test=0.667) Precision: (train=0.618, test=0.857) Recall: (train=0.429, test=0.545) total time=   0.0s\n",
      "[CV 10/10] END C=10, gamma=10; AUC: (train=0.759, test=0.766) Accuracy: (train=0.729, test=0.781) F1: (train=0.521, test=0.667) Precision: (train=0.642, test=0.700) Recall: (train=0.439, test=0.636) total time=   0.0s\n"
     ]
    },
    {
     "data": {
      "text/plain": [
       "GridSearchCV(cv=10, estimator=SVC(kernel='linear'),\n",
       "             param_grid={'C': [0.1, 1, 10], 'gamma': [1, 0.1, 10]},\n",
       "             refit='Accuracy', return_train_score=True,\n",
       "             scoring={'AUC': 'roc_auc', 'Accuracy': make_scorer(accuracy_score),\n",
       "                      'F1': 'f1', 'Precision': 'precision',\n",
       "                      'Recall': 'recall'},\n",
       "             verbose=3)"
      ]
     },
     "execution_count": 50,
     "metadata": {},
     "output_type": "execute_result"
    }
   ],
   "source": [
    "from sklearn.model_selection import GridSearchCV\n",
    "  \n",
    "# defining parameter range\n",
    "param_grid = {'C': [0.1, 1, 10], \n",
    "              'gamma': [1, 0.1,10]\n",
    "             } \n",
    "scoring = {\"AUC\": \"roc_auc\", \"Accuracy\": make_scorer(accuracy_score),\"F1\":\"f1\",\"Precision\":\"precision\",\"Recall\":\"recall\"}\n",
    "  \n",
    "grid = GridSearchCV(svm.SVC(kernel='linear'), param_grid=param_grid,refit=\"Accuracy\", verbose = 3,cv=10,scoring=scoring,return_train_score=True)\n",
    "# fitting the model for grid search\n",
    "grid.fit(X_train, y_train)"
   ]
  },
  {
   "cell_type": "code",
   "execution_count": 43,
   "id": "db3c88d9",
   "metadata": {},
   "outputs": [
    {
     "name": "stdout",
     "output_type": "stream",
     "text": [
      "{'C': 10, 'gamma': 1}\n"
     ]
    }
   ],
   "source": [
    "print(grid.best_params_)"
   ]
  },
  {
   "cell_type": "code",
   "execution_count": 44,
   "id": "789b0869",
   "metadata": {},
   "outputs": [
    {
     "name": "stdout",
     "output_type": "stream",
     "text": [
      "              precision    recall  f1-score   support\n",
      "\n",
      "           0       0.77      0.85      0.81        62\n",
      "           1       0.62      0.48      0.55        31\n",
      "\n",
      "    accuracy                           0.73        93\n",
      "   macro avg       0.70      0.67      0.68        93\n",
      "weighted avg       0.72      0.73      0.72        93\n",
      "\n",
      "ROC AUC: 0.6694\n"
     ]
    }
   ],
   "source": [
    "grid_predictions = grid.predict(X_test)\n",
    "  \n",
    "# print classification report\n",
    "print(classification_report(y_test, grid_predictions))\n",
    "score = roc_auc_score(y_test, grid_predictions)\n",
    "print(f\"ROC AUC: {score:.4f}\")"
   ]
  },
  {
   "cell_type": "code",
   "execution_count": 43,
   "id": "b162cfd9",
   "metadata": {},
   "outputs": [
    {
     "name": "stdout",
     "output_type": "stream",
     "text": [
      "Fold: 0. Accuracy = 0.660, precision = 0.000, recall = 0.000, f1 = 0.000, AUC = 0.500\n",
      "Fold: 1. Accuracy = 0.660, precision = 0.000, recall = 0.000, f1 = 0.000, AUC = 0.500\n",
      "Fold: 2. Accuracy = 0.652, precision = 0.000, recall = 0.000, f1 = 0.000, AUC = 0.500\n",
      "Fold: 3. Accuracy = 0.652, precision = 0.000, recall = 0.000, f1 = 0.000, AUC = 0.500\n",
      "Fold: 4. Accuracy = 0.652, precision = 0.000, recall = 0.000, f1 = 0.000, AUC = 0.500\n",
      "Fold: 5. Accuracy = 0.652, precision = 0.000, recall = 0.000, f1 = 0.000, AUC = 0.500\n",
      "Fold: 6. Accuracy = 0.652, precision = 0.000, recall = 0.000, f1 = 0.000, AUC = 0.500\n",
      "Fold: 7. Accuracy = 0.652, precision = 0.000, recall = 0.000, f1 = 0.000, AUC = 0.500\n",
      "Fold: 8. Accuracy = 0.652, precision = 0.000, recall = 0.000, f1 = 0.000, AUC = 0.500\n",
      "Fold: 9. Accuracy = 0.652, precision = 0.000, recall = 0.000, f1 = 0.000, AUC = 0.500\n",
      "List of possible accuracy: [0.6595744680851063, 0.6595744680851063, 0.6521739130434783, 0.6521739130434783, 0.6521739130434783, 0.6521739130434783, 0.6521739130434783, 0.6521739130434783, 0.6521739130434783, 0.6521739130434783]\n",
      "\n",
      "Maximum Accuracy That can be obtained from this model is: 65.95744680851064 %\n",
      "\n",
      "Minimum Accuracy: 65.21739130434783 %\n",
      "\n",
      "Overall Accuracy: 65.36540240518039 %\n",
      "\n",
      "Standard Deviation is: 0.003120347984131587\n"
     ]
    },
    {
     "name": "stderr",
     "output_type": "stream",
     "text": [
      "/Users/anushruti/opt/anaconda3/lib/python3.9/site-packages/sklearn/metrics/_classification.py:1318: UndefinedMetricWarning: Precision is ill-defined and being set to 0.0 due to no predicted samples. Use `zero_division` parameter to control this behavior.\n",
      "  _warn_prf(average, modifier, msg_start, len(result))\n",
      "/Users/anushruti/opt/anaconda3/lib/python3.9/site-packages/sklearn/metrics/_classification.py:1318: UndefinedMetricWarning: Precision is ill-defined and being set to 0.0 due to no predicted samples. Use `zero_division` parameter to control this behavior.\n",
      "  _warn_prf(average, modifier, msg_start, len(result))\n",
      "/Users/anushruti/opt/anaconda3/lib/python3.9/site-packages/sklearn/metrics/_classification.py:1318: UndefinedMetricWarning: Precision is ill-defined and being set to 0.0 due to no predicted samples. Use `zero_division` parameter to control this behavior.\n",
      "  _warn_prf(average, modifier, msg_start, len(result))\n",
      "/Users/anushruti/opt/anaconda3/lib/python3.9/site-packages/sklearn/metrics/_classification.py:1318: UndefinedMetricWarning: Precision is ill-defined and being set to 0.0 due to no predicted samples. Use `zero_division` parameter to control this behavior.\n",
      "  _warn_prf(average, modifier, msg_start, len(result))\n",
      "/Users/anushruti/opt/anaconda3/lib/python3.9/site-packages/sklearn/metrics/_classification.py:1318: UndefinedMetricWarning: Precision is ill-defined and being set to 0.0 due to no predicted samples. Use `zero_division` parameter to control this behavior.\n",
      "  _warn_prf(average, modifier, msg_start, len(result))\n",
      "/Users/anushruti/opt/anaconda3/lib/python3.9/site-packages/sklearn/metrics/_classification.py:1318: UndefinedMetricWarning: Precision is ill-defined and being set to 0.0 due to no predicted samples. Use `zero_division` parameter to control this behavior.\n",
      "  _warn_prf(average, modifier, msg_start, len(result))\n",
      "/Users/anushruti/opt/anaconda3/lib/python3.9/site-packages/sklearn/metrics/_classification.py:1318: UndefinedMetricWarning: Precision is ill-defined and being set to 0.0 due to no predicted samples. Use `zero_division` parameter to control this behavior.\n",
      "  _warn_prf(average, modifier, msg_start, len(result))\n",
      "/Users/anushruti/opt/anaconda3/lib/python3.9/site-packages/sklearn/metrics/_classification.py:1318: UndefinedMetricWarning: Precision is ill-defined and being set to 0.0 due to no predicted samples. Use `zero_division` parameter to control this behavior.\n",
      "  _warn_prf(average, modifier, msg_start, len(result))\n",
      "/Users/anushruti/opt/anaconda3/lib/python3.9/site-packages/sklearn/metrics/_classification.py:1318: UndefinedMetricWarning: Precision is ill-defined and being set to 0.0 due to no predicted samples. Use `zero_division` parameter to control this behavior.\n",
      "  _warn_prf(average, modifier, msg_start, len(result))\n",
      "/Users/anushruti/opt/anaconda3/lib/python3.9/site-packages/sklearn/metrics/_classification.py:1318: UndefinedMetricWarning: Precision is ill-defined and being set to 0.0 due to no predicted samples. Use `zero_division` parameter to control this behavior.\n",
      "  _warn_prf(average, modifier, msg_start, len(result))\n"
     ]
    }
   ],
   "source": [
    "from statistics import mean, stdev\n",
    "from sklearn import preprocessing\n",
    "from sklearn.model_selection import StratifiedKFold\n",
    "from sklearn import linear_model\n",
    "from sklearn import datasets\n",
    "from sklearn.metrics import precision_score, recall_score, f1_score\n",
    "#df = pd.read_csv(\"project3_dataset1.txt\",sep='\\t',header=None)\n",
    "\n",
    "#X = df.select_dtypes(include=['float64'])\n",
    "#y = df.iloc[: , -1]\n",
    "\n",
    "scaler = preprocessing.MinMaxScaler()\n",
    "x_scaled = scaler.fit_transform(X)\n",
    "ct=0\n",
    "svm1 = svm.SVC(kernel='linear', C = 0.01)\n",
    "\n",
    "skf = StratifiedKFold(n_splits=10, shuffle=True, random_state=1)\n",
    "lst_accu_stratified = []\n",
    "  \n",
    "for train_index, test_index in skf.split(X, y):\n",
    "    x_train_fold, x_test_fold = x_scaled[train_index], x_scaled[test_index]\n",
    "    y_train_fold, y_test_fold = y[train_index], y[test_index]\n",
    "    svm1.fit(x_train_fold, y_train_fold)\n",
    "    y_pred=svm1.predict(x_test_fold)\n",
    "    lst_accu_stratified.append(svm1.score(x_test_fold, y_test_fold))\n",
    "    accr = accuracy_score(y_test_fold, y_pred)\n",
    "    precision = precision_score(y_test_fold, y_pred)\n",
    "    recall = recall_score(y_test_fold, y_pred)\n",
    "    f1 = f1_score(y_test_fold, y_pred)\n",
    "    roc = roc_auc_score(y_test_fold, y_pred, average='weighted')\n",
    "    print(f\"Fold: {ct}. Accuracy = {accr:.3f}, precision = {precision:.3f}, recall = {recall:.3f}, f1 = {f1:.3f}, AUC = {roc:.3f}\")\n",
    "    ct+=1\n",
    "\n",
    "print('List of possible accuracy:', lst_accu_stratified)\n",
    "print('\\nMaximum Accuracy That can be obtained from this model is:',\n",
    "      max(lst_accu_stratified)*100, '%')\n",
    "print('\\nMinimum Accuracy:',\n",
    "      min(lst_accu_stratified)*100, '%')\n",
    "print('\\nOverall Accuracy:',\n",
    "      mean(lst_accu_stratified)*100, '%')\n",
    "print('\\nStandard Deviation is:', stdev(lst_accu_stratified))"
   ]
  },
  {
   "cell_type": "code",
   "execution_count": 45,
   "id": "4d77d04f",
   "metadata": {},
   "outputs": [
    {
     "data": {
      "image/png": "[encoded data removed]",
      "text/plain": [
       "<Figure size 432x288 with 1 Axes>"
      ]
     },
     "metadata": {
      "needs_background": "light"
     },
     "output_type": "display_data"
    },
    {
     "data": {
      "image/png": "[encoded data removed]",
      "text/plain": [
       "<Figure size 432x288 with 1 Axes>"
      ]
     },
     "metadata": {
      "needs_background": "light"
     },
     "output_type": "display_data"
    },
    {
     "data": {
      "image/png": "[encoded data removed]",
      "text/plain": [
       "<Figure size 432x288 with 1 Axes>"
      ]
     },
     "metadata": {
      "needs_background": "light"
     },
     "output_type": "display_data"
    }
   ],
   "source": [
    "df = pd.DataFrame(grid.cv_results_)\n",
    "df1=df.sort_values(by='param_C')\n",
    "\n",
    "x = df1['param_C']\n",
    "y=df['mean_test_Accuracy']\n",
    "z=df['std_test_Accuracy'] * df1['std_test_Accuracy']\n",
    "m=df['mean_train_Accuracy']\n",
    "fig = plt.figure()\n",
    "ax = plt.axes()\n",
    "plt.xlabel(\"C value\")\n",
    "plt.ylabel(\"Test Accuracy\")\n",
    "ax.plot(x,y,color='blue')\n",
    "plt.show()\n",
    "fig = plt.figure()\n",
    "ax = plt.axes()\n",
    "plt.xlabel(\"C value\")\n",
    "plt.ylabel(\"Variance\")\n",
    "ax.plot(x,z,color='blue')\n",
    "plt.show()\n",
    "fig = plt.figure()\n",
    "ax = plt.axes()\n",
    "plt.xlabel(\"C value\")\n",
    "plt.ylabel(\"Train Accuracy\")\n",
    "ax.plot(x,m,color='blue')\n",
    "plt.show()"
   ]
  },
  {
   "cell_type": "code",
   "execution_count": 52,
   "id": "b69670ea",
   "metadata": {},
   "outputs": [
    {
     "data": {
      "image/png": "[encoded data removed]",
      "text/plain": [
       "<Figure size 432x288 with 1 Axes>"
      ]
     },
     "metadata": {
      "needs_background": "light"
     },
     "output_type": "display_data"
    },
    {
     "data": {
      "image/png": "[encoded data removed]",
      "text/plain": [
       "<Figure size 432x288 with 1 Axes>"
      ]
     },
     "metadata": {
      "needs_background": "light"
     },
     "output_type": "display_data"
    },
    {
     "data": {
      "image/png": "[encoded data removed]",
      "text/plain": [
       "<Figure size 432x288 with 1 Axes>"
      ]
     },
     "metadata": {
      "needs_background": "light"
     },
     "output_type": "display_data"
    }
   ],
   "source": [
    "df = pd.DataFrame(grid.cv_results_)\n",
    "\n",
    "df=df.groupby(['param_gamma']).mean()\n",
    "\n",
    "\n",
    "x = df.index\n",
    "y=df['mean_test_Accuracy']\n",
    "z=df['std_test_Accuracy'] * df['std_test_Accuracy']\n",
    "m=df['mean_train_Accuracy']\n",
    "fig = plt.figure()\n",
    "ax = plt.axes()\n",
    "plt.xlabel(\"Gamma value\")\n",
    "plt.ylabel(\"Mean Accuracy\")\n",
    "ax.plot(x,y,color='blue')\n",
    "plt.show()\n",
    "fig = plt.figure()\n",
    "ax = plt.axes()\n",
    "plt.xlabel(\"Gamma value\")\n",
    "plt.ylabel(\"Standard Deviation\")\n",
    "ax.plot(x,z,color='blue')\n",
    "plt.show()\n",
    "\n",
    "fig = plt.figure()\n",
    "ax = plt.axes()\n",
    "plt.xlabel(\"Gamma value\")\n",
    "plt.ylabel(\"train accuracy\")\n",
    "ax.plot(x,m,color='blue')\n",
    "plt.show()"
   ]
  },
  {
   "cell_type": "code",
   "execution_count": null,
   "id": "98e7d2cc",
   "metadata": {},
   "outputs": [],
   "source": []
  }
 ],
 "metadata": {
  "kernelspec": {
   "display_name": "Python 3 (ipykernel)",
   "language": "python",
   "name": "python3"
  },
  "language_info": {
   "codemirror_mode": {
    "name": "ipython",
    "version": 3
   },
   "file_extension": ".py",
   "mimetype": "text/x-python",
   "name": "python",
   "nbconvert_exporter": "python",
   "pygments_lexer": "ipython3",
   "version": "3.9.12"
  }
 },
 "nbformat": 4,
 "nbformat_minor": 5
}
